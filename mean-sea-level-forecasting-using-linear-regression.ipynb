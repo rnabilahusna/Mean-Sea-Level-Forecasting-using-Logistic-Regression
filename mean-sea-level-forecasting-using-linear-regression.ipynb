{
 "cells": [
  {
   "cell_type": "markdown",
   "id": "cc197c77",
   "metadata": {
    "papermill": {
     "duration": 0.011059,
     "end_time": "2025-04-26T07:11:23.528268",
     "exception": false,
     "start_time": "2025-04-26T07:11:23.517209",
     "status": "completed"
    },
    "tags": []
   },
   "source": [
    "# **CHANGE IN MEAN SEA LEVELS**"
   ]
  },
  {
   "cell_type": "markdown",
   "id": "27ab43fb",
   "metadata": {
    "papermill": {
     "duration": 0.0096,
     "end_time": "2025-04-26T07:11:23.547993",
     "exception": false,
     "start_time": "2025-04-26T07:11:23.538393",
     "status": "completed"
    },
    "tags": []
   },
   "source": [
    "Sea level rise is one of the main indicators of climate change and it has been rising at about 3.3 millimeters per year since the early 1990s (the beginning of our satellite record, as seen below in the Copernicus Marine Ocean Monitoring Indicator catalogue). New calculations in the fourth Ocean State Report reveal that sea level rise is accelerating with this rate increasing by 0.12+-0.073mm/year each year.\n",
    " \n",
    "The dataset \"Change in Mean Sea Levels\" provides information on the variation in mean sea levels over time. The data covers different regions, and the observations are associated with various indicators, units, and sources. \n",
    "\n",
    "Data source:  \n",
    "International Monetary Fund (IMF). 2020.\n",
    "Sea Level Rise. Laboratory for Satellite\n",
    "Altimetry. [Link]\n",
    "(https://climatedata.imf.org/)."
   ]
  },
  {
   "cell_type": "markdown",
   "id": "f00ac44f",
   "metadata": {
    "papermill": {
     "duration": 0.00992,
     "end_time": "2025-04-26T07:11:23.567671",
     "exception": false,
     "start_time": "2025-04-26T07:11:23.557751",
     "status": "completed"
    },
    "tags": []
   },
   "source": [
    "## 1. Research Questions"
   ]
  },
  {
   "cell_type": "markdown",
   "id": "4735cb2f",
   "metadata": {
    "papermill": {
     "duration": 0.009579,
     "end_time": "2025-04-26T07:11:23.587174",
     "exception": false,
     "start_time": "2025-04-26T07:11:23.577595",
     "status": "completed"
    },
    "tags": []
   },
   "source": [
    "\n",
    "1. What are the predicted mean sea levels for specific regions or globally at future time points, specifically looking 25 years ahead?\n",
    "\n",
    "\n",
    "2. How can we identify unusual or extreme sea level values that may serve as indicators of anomalies or events, such as storms or floods?\n",
    "\n",
    "\n",
    "3. What are the patterns and characteristics of annual cycles in sea level changes, and how do they vary over time?\n"
   ]
  },
  {
   "cell_type": "markdown",
   "id": "fb2feb46",
   "metadata": {
    "papermill": {
     "duration": 0.009606,
     "end_time": "2025-04-26T07:11:23.606656",
     "exception": false,
     "start_time": "2025-04-26T07:11:23.597050",
     "status": "completed"
    },
    "tags": []
   },
   "source": [
    "## 2. Data Selection"
   ]
  },
  {
   "cell_type": "markdown",
   "id": "c3527a28",
   "metadata": {
    "papermill": {
     "duration": 0.009548,
     "end_time": "2025-04-26T07:11:23.626044",
     "exception": false,
     "start_time": "2025-04-26T07:11:23.616496",
     "status": "completed"
    },
    "tags": []
   },
   "source": [
    "### Dataset: Change in Mean Sea Levels\n",
    "\n",
    "**Dataset Overview:**\n",
    "\n",
    "The dataset \"Change in Mean Sea Levels\" provides information on the variation in mean sea levels over time. The data covers different regions, and the observations are associated with various indicators, units, and sources.\n",
    "\n",
    "\n",
    "**Data Source:**\n",
    "- International Monetary Fund (IMF). 2020. Sea Level Rise. Laboratory for Satellite Altimetry. [Link](https://climatedata.imf.org/). "
   ]
  },
  {
   "cell_type": "markdown",
   "id": "0fc0589b",
   "metadata": {
    "papermill": {
     "duration": 0.009604,
     "end_time": "2025-04-26T07:11:23.645468",
     "exception": false,
     "start_time": "2025-04-26T07:11:23.635864",
     "status": "completed"
    },
    "tags": []
   },
   "source": [
    "## 3. Import Libraries"
   ]
  },
  {
   "cell_type": "code",
   "execution_count": 1,
   "id": "08005622",
   "metadata": {
    "execution": {
     "iopub.execute_input": "2025-04-26T07:11:23.667062Z",
     "iopub.status.busy": "2025-04-26T07:11:23.666198Z",
     "iopub.status.idle": "2025-04-26T07:11:27.462050Z",
     "shell.execute_reply": "2025-04-26T07:11:27.460876Z"
    },
    "papermill": {
     "duration": 3.808692,
     "end_time": "2025-04-26T07:11:27.463994",
     "exception": false,
     "start_time": "2025-04-26T07:11:23.655302",
     "status": "completed"
    },
    "tags": []
   },
   "outputs": [],
   "source": [
    "# Import all the libraries\n",
    "\n",
    "import pandas as pd\n",
    "import numpy as np\n",
    "import matplotlib.pyplot as plt\n",
    "import matplotlib.cm as cm\n",
    "from sklearn.linear_model import LinearRegression\n",
    "from sklearn.model_selection import train_test_split\n",
    "from sklearn.cluster import KMeans\n",
    "from sklearn.ensemble import IsolationForest\n"
   ]
  },
  {
   "cell_type": "markdown",
   "id": "d8a151c2",
   "metadata": {
    "papermill": {
     "duration": 0.010635,
     "end_time": "2025-04-26T07:11:27.486785",
     "exception": false,
     "start_time": "2025-04-26T07:11:27.476150",
     "status": "completed"
    },
    "tags": []
   },
   "source": [
    "## 4. Load the dataset"
   ]
  },
  {
   "cell_type": "code",
   "execution_count": 2,
   "id": "60de6b43",
   "metadata": {
    "execution": {
     "iopub.execute_input": "2025-04-26T07:11:27.511222Z",
     "iopub.status.busy": "2025-04-26T07:11:27.510147Z",
     "iopub.status.idle": "2025-04-26T07:11:27.969963Z",
     "shell.execute_reply": "2025-04-26T07:11:27.968834Z"
    },
    "papermill": {
     "duration": 0.472922,
     "end_time": "2025-04-26T07:11:27.971484",
     "exception": false,
     "start_time": "2025-04-26T07:11:27.498562",
     "status": "completed"
    },
    "scrolled": true,
    "tags": []
   },
   "outputs": [
    {
     "name": "stderr",
     "output_type": "stream",
     "text": [
      "/usr/local/lib/python3.11/dist-packages/pandas/io/formats/format.py:1458: RuntimeWarning: invalid value encountered in greater\n",
      "  has_large_values = (abs_vals > 1e6).any()\n",
      "/usr/local/lib/python3.11/dist-packages/pandas/io/formats/format.py:1459: RuntimeWarning: invalid value encountered in less\n",
      "  has_small_values = ((abs_vals < 10 ** (-self.digits)) & (abs_vals > 0)).any()\n",
      "/usr/local/lib/python3.11/dist-packages/pandas/io/formats/format.py:1459: RuntimeWarning: invalid value encountered in greater\n",
      "  has_small_values = ((abs_vals < 10 ** (-self.digits)) & (abs_vals > 0)).any()\n"
     ]
    },
    {
     "data": {
      "text/html": [
       "<div>\n",
       "<style scoped>\n",
       "    .dataframe tbody tr th:only-of-type {\n",
       "        vertical-align: middle;\n",
       "    }\n",
       "\n",
       "    .dataframe tbody tr th {\n",
       "        vertical-align: top;\n",
       "    }\n",
       "\n",
       "    .dataframe thead th {\n",
       "        text-align: right;\n",
       "    }\n",
       "</style>\n",
       "<table border=\"1\" class=\"dataframe\">\n",
       "  <thead>\n",
       "    <tr style=\"text-align: right;\">\n",
       "      <th></th>\n",
       "      <th>ObjectId</th>\n",
       "      <th>Country</th>\n",
       "      <th>ISO2</th>\n",
       "      <th>ISO3</th>\n",
       "      <th>Indicator</th>\n",
       "      <th>Unit</th>\n",
       "      <th>Source</th>\n",
       "      <th>CTS_Code</th>\n",
       "      <th>CTS_Name</th>\n",
       "      <th>CTS_Full_Descriptor</th>\n",
       "      <th>Measure</th>\n",
       "      <th>Date</th>\n",
       "      <th>Value</th>\n",
       "    </tr>\n",
       "  </thead>\n",
       "  <tbody>\n",
       "    <tr>\n",
       "      <th>0</th>\n",
       "      <td>1</td>\n",
       "      <td>World</td>\n",
       "      <td>NaN</td>\n",
       "      <td>WLD</td>\n",
       "      <td>Change in mean sea level: Sea level: TOPEX.Pos...</td>\n",
       "      <td>Millimeters</td>\n",
       "      <td>National Oceanic and Atmospheric Administratio...</td>\n",
       "      <td>ECCL</td>\n",
       "      <td>Change in Mean Sea Level</td>\n",
       "      <td>Environment, Climate Change, Climate Indicator...</td>\n",
       "      <td>Andaman Sea</td>\n",
       "      <td>D12/17/1992</td>\n",
       "      <td>-10.34</td>\n",
       "    </tr>\n",
       "    <tr>\n",
       "      <th>1</th>\n",
       "      <td>2</td>\n",
       "      <td>World</td>\n",
       "      <td>NaN</td>\n",
       "      <td>WLD</td>\n",
       "      <td>Change in mean sea level: Sea level: TOPEX.Pos...</td>\n",
       "      <td>Millimeters</td>\n",
       "      <td>National Oceanic and Atmospheric Administratio...</td>\n",
       "      <td>ECCL</td>\n",
       "      <td>Change in Mean Sea Level</td>\n",
       "      <td>Environment, Climate Change, Climate Indicator...</td>\n",
       "      <td>Arabian Sea</td>\n",
       "      <td>D12/17/1992</td>\n",
       "      <td>-18.46</td>\n",
       "    </tr>\n",
       "    <tr>\n",
       "      <th>2</th>\n",
       "      <td>3</td>\n",
       "      <td>World</td>\n",
       "      <td>NaN</td>\n",
       "      <td>WLD</td>\n",
       "      <td>Change in mean sea level: Sea level: TOPEX.Pos...</td>\n",
       "      <td>Millimeters</td>\n",
       "      <td>National Oceanic and Atmospheric Administratio...</td>\n",
       "      <td>ECCL</td>\n",
       "      <td>Change in Mean Sea Level</td>\n",
       "      <td>Environment, Climate Change, Climate Indicator...</td>\n",
       "      <td>Atlantic Ocean</td>\n",
       "      <td>D12/17/1992</td>\n",
       "      <td>-15.41</td>\n",
       "    </tr>\n",
       "    <tr>\n",
       "      <th>3</th>\n",
       "      <td>4</td>\n",
       "      <td>World</td>\n",
       "      <td>NaN</td>\n",
       "      <td>WLD</td>\n",
       "      <td>Change in mean sea level: Sea level: TOPEX.Pos...</td>\n",
       "      <td>Millimeters</td>\n",
       "      <td>National Oceanic and Atmospheric Administratio...</td>\n",
       "      <td>ECCL</td>\n",
       "      <td>Change in Mean Sea Level</td>\n",
       "      <td>Environment, Climate Change, Climate Indicator...</td>\n",
       "      <td>Baltic Sea</td>\n",
       "      <td>D12/17/1992</td>\n",
       "      <td>196.85</td>\n",
       "    </tr>\n",
       "    <tr>\n",
       "      <th>4</th>\n",
       "      <td>5</td>\n",
       "      <td>World</td>\n",
       "      <td>NaN</td>\n",
       "      <td>WLD</td>\n",
       "      <td>Change in mean sea level: Sea level: TOPEX.Pos...</td>\n",
       "      <td>Millimeters</td>\n",
       "      <td>National Oceanic and Atmospheric Administratio...</td>\n",
       "      <td>ECCL</td>\n",
       "      <td>Change in Mean Sea Level</td>\n",
       "      <td>Environment, Climate Change, Climate Indicator...</td>\n",
       "      <td>Bay Bengal</td>\n",
       "      <td>D12/17/1992</td>\n",
       "      <td>3.27</td>\n",
       "    </tr>\n",
       "    <tr>\n",
       "      <th>...</th>\n",
       "      <td>...</td>\n",
       "      <td>...</td>\n",
       "      <td>...</td>\n",
       "      <td>...</td>\n",
       "      <td>...</td>\n",
       "      <td>...</td>\n",
       "      <td>...</td>\n",
       "      <td>...</td>\n",
       "      <td>...</td>\n",
       "      <td>...</td>\n",
       "      <td>...</td>\n",
       "      <td>...</td>\n",
       "      <td>...</td>\n",
       "    </tr>\n",
       "    <tr>\n",
       "      <th>35599</th>\n",
       "      <td>35600</td>\n",
       "      <td>World</td>\n",
       "      <td>NaN</td>\n",
       "      <td>WLD</td>\n",
       "      <td>Change in mean sea level: Sea level: Trend</td>\n",
       "      <td>Millimeters</td>\n",
       "      <td>National Oceanic and Atmospheric Administratio...</td>\n",
       "      <td>ECCL</td>\n",
       "      <td>Change in Mean Sea Level</td>\n",
       "      <td>Environment, Climate Change, Climate Indicator...</td>\n",
       "      <td>South China</td>\n",
       "      <td>D11/08/2022</td>\n",
       "      <td>3.76</td>\n",
       "    </tr>\n",
       "    <tr>\n",
       "      <th>35600</th>\n",
       "      <td>35601</td>\n",
       "      <td>World</td>\n",
       "      <td>NaN</td>\n",
       "      <td>WLD</td>\n",
       "      <td>Change in mean sea level: Sea level: Trend</td>\n",
       "      <td>Millimeters</td>\n",
       "      <td>National Oceanic and Atmospheric Administratio...</td>\n",
       "      <td>ECCL</td>\n",
       "      <td>Change in Mean Sea Level</td>\n",
       "      <td>Environment, Climate Change, Climate Indicator...</td>\n",
       "      <td>Southern Ocean</td>\n",
       "      <td>D11/08/2022</td>\n",
       "      <td>3.22</td>\n",
       "    </tr>\n",
       "    <tr>\n",
       "      <th>35601</th>\n",
       "      <td>35602</td>\n",
       "      <td>World</td>\n",
       "      <td>NaN</td>\n",
       "      <td>WLD</td>\n",
       "      <td>Change in mean sea level: Sea level: Trend</td>\n",
       "      <td>Millimeters</td>\n",
       "      <td>National Oceanic and Atmospheric Administratio...</td>\n",
       "      <td>ECCL</td>\n",
       "      <td>Change in Mean Sea Level</td>\n",
       "      <td>Environment, Climate Change, Climate Indicator...</td>\n",
       "      <td>Tropics</td>\n",
       "      <td>D11/08/2022</td>\n",
       "      <td>3.11</td>\n",
       "    </tr>\n",
       "    <tr>\n",
       "      <th>35602</th>\n",
       "      <td>35603</td>\n",
       "      <td>World</td>\n",
       "      <td>NaN</td>\n",
       "      <td>WLD</td>\n",
       "      <td>Change in mean sea level: Sea level: Trend</td>\n",
       "      <td>Millimeters</td>\n",
       "      <td>National Oceanic and Atmospheric Administratio...</td>\n",
       "      <td>ECCL</td>\n",
       "      <td>Change in Mean Sea Level</td>\n",
       "      <td>Environment, Climate Change, Climate Indicator...</td>\n",
       "      <td>World</td>\n",
       "      <td>D11/08/2022</td>\n",
       "      <td>3.07</td>\n",
       "    </tr>\n",
       "    <tr>\n",
       "      <th>35603</th>\n",
       "      <td>35604</td>\n",
       "      <td>World</td>\n",
       "      <td>NaN</td>\n",
       "      <td>WLD</td>\n",
       "      <td>Change in mean sea level: Sea level: Trend</td>\n",
       "      <td>Millimeters</td>\n",
       "      <td>National Oceanic and Atmospheric Administratio...</td>\n",
       "      <td>ECCL</td>\n",
       "      <td>Change in Mean Sea Level</td>\n",
       "      <td>Environment, Climate Change, Climate Indicator...</td>\n",
       "      <td>Yellow Sea</td>\n",
       "      <td>D11/08/2022</td>\n",
       "      <td>2.75</td>\n",
       "    </tr>\n",
       "  </tbody>\n",
       "</table>\n",
       "<p>35604 rows × 13 columns</p>\n",
       "</div>"
      ],
      "text/plain": [
       "       ObjectId Country  ISO2 ISO3  \\\n",
       "0             1   World   NaN  WLD   \n",
       "1             2   World   NaN  WLD   \n",
       "2             3   World   NaN  WLD   \n",
       "3             4   World   NaN  WLD   \n",
       "4             5   World   NaN  WLD   \n",
       "...         ...     ...   ...  ...   \n",
       "35599     35600   World   NaN  WLD   \n",
       "35600     35601   World   NaN  WLD   \n",
       "35601     35602   World   NaN  WLD   \n",
       "35602     35603   World   NaN  WLD   \n",
       "35603     35604   World   NaN  WLD   \n",
       "\n",
       "                                               Indicator         Unit  \\\n",
       "0      Change in mean sea level: Sea level: TOPEX.Pos...  Millimeters   \n",
       "1      Change in mean sea level: Sea level: TOPEX.Pos...  Millimeters   \n",
       "2      Change in mean sea level: Sea level: TOPEX.Pos...  Millimeters   \n",
       "3      Change in mean sea level: Sea level: TOPEX.Pos...  Millimeters   \n",
       "4      Change in mean sea level: Sea level: TOPEX.Pos...  Millimeters   \n",
       "...                                                  ...          ...   \n",
       "35599         Change in mean sea level: Sea level: Trend  Millimeters   \n",
       "35600         Change in mean sea level: Sea level: Trend  Millimeters   \n",
       "35601         Change in mean sea level: Sea level: Trend  Millimeters   \n",
       "35602         Change in mean sea level: Sea level: Trend  Millimeters   \n",
       "35603         Change in mean sea level: Sea level: Trend  Millimeters   \n",
       "\n",
       "                                                  Source CTS_Code  \\\n",
       "0      National Oceanic and Atmospheric Administratio...     ECCL   \n",
       "1      National Oceanic and Atmospheric Administratio...     ECCL   \n",
       "2      National Oceanic and Atmospheric Administratio...     ECCL   \n",
       "3      National Oceanic and Atmospheric Administratio...     ECCL   \n",
       "4      National Oceanic and Atmospheric Administratio...     ECCL   \n",
       "...                                                  ...      ...   \n",
       "35599  National Oceanic and Atmospheric Administratio...     ECCL   \n",
       "35600  National Oceanic and Atmospheric Administratio...     ECCL   \n",
       "35601  National Oceanic and Atmospheric Administratio...     ECCL   \n",
       "35602  National Oceanic and Atmospheric Administratio...     ECCL   \n",
       "35603  National Oceanic and Atmospheric Administratio...     ECCL   \n",
       "\n",
       "                       CTS_Name  \\\n",
       "0      Change in Mean Sea Level   \n",
       "1      Change in Mean Sea Level   \n",
       "2      Change in Mean Sea Level   \n",
       "3      Change in Mean Sea Level   \n",
       "4      Change in Mean Sea Level   \n",
       "...                         ...   \n",
       "35599  Change in Mean Sea Level   \n",
       "35600  Change in Mean Sea Level   \n",
       "35601  Change in Mean Sea Level   \n",
       "35602  Change in Mean Sea Level   \n",
       "35603  Change in Mean Sea Level   \n",
       "\n",
       "                                     CTS_Full_Descriptor         Measure  \\\n",
       "0      Environment, Climate Change, Climate Indicator...     Andaman Sea   \n",
       "1      Environment, Climate Change, Climate Indicator...     Arabian Sea   \n",
       "2      Environment, Climate Change, Climate Indicator...  Atlantic Ocean   \n",
       "3      Environment, Climate Change, Climate Indicator...      Baltic Sea   \n",
       "4      Environment, Climate Change, Climate Indicator...      Bay Bengal   \n",
       "...                                                  ...             ...   \n",
       "35599  Environment, Climate Change, Climate Indicator...     South China   \n",
       "35600  Environment, Climate Change, Climate Indicator...  Southern Ocean   \n",
       "35601  Environment, Climate Change, Climate Indicator...         Tropics   \n",
       "35602  Environment, Climate Change, Climate Indicator...           World   \n",
       "35603  Environment, Climate Change, Climate Indicator...      Yellow Sea   \n",
       "\n",
       "              Date   Value  \n",
       "0      D12/17/1992  -10.34  \n",
       "1      D12/17/1992  -18.46  \n",
       "2      D12/17/1992  -15.41  \n",
       "3      D12/17/1992  196.85  \n",
       "4      D12/17/1992    3.27  \n",
       "...            ...     ...  \n",
       "35599  D11/08/2022    3.76  \n",
       "35600  D11/08/2022    3.22  \n",
       "35601  D11/08/2022    3.11  \n",
       "35602  D11/08/2022    3.07  \n",
       "35603  D11/08/2022    2.75  \n",
       "\n",
       "[35604 rows x 13 columns]"
      ]
     },
     "execution_count": 2,
     "metadata": {},
     "output_type": "execute_result"
    }
   ],
   "source": [
    "file_path = \"/kaggle/input/change-in-mean-sea-levels/Change_in_Mean_Sea_Levels.csv\"\n",
    "df = pd.read_csv(file_path)\n",
    "\n",
    "df"
   ]
  },
  {
   "cell_type": "markdown",
   "id": "0117f909",
   "metadata": {
    "papermill": {
     "duration": 0.010787,
     "end_time": "2025-04-26T07:11:27.993334",
     "exception": false,
     "start_time": "2025-04-26T07:11:27.982547",
     "status": "completed"
    },
    "tags": []
   },
   "source": [
    "## 5. Data Understanding"
   ]
  },
  {
   "cell_type": "markdown",
   "id": "67cf9703",
   "metadata": {
    "papermill": {
     "duration": 0.010602,
     "end_time": "2025-04-26T07:11:28.015564",
     "exception": false,
     "start_time": "2025-04-26T07:11:28.004962",
     "status": "completed"
    },
    "tags": []
   },
   "source": [
    "Get to know the dataset before we preprocess it. "
   ]
  },
  {
   "cell_type": "code",
   "execution_count": 3,
   "id": "45002994",
   "metadata": {
    "execution": {
     "iopub.execute_input": "2025-04-26T07:11:28.038456Z",
     "iopub.status.busy": "2025-04-26T07:11:28.038135Z",
     "iopub.status.idle": "2025-04-26T07:11:28.081299Z",
     "shell.execute_reply": "2025-04-26T07:11:28.080173Z"
    },
    "papermill": {
     "duration": 0.056366,
     "end_time": "2025-04-26T07:11:28.082796",
     "exception": false,
     "start_time": "2025-04-26T07:11:28.026430",
     "status": "completed"
    },
    "tags": []
   },
   "outputs": [
    {
     "name": "stdout",
     "output_type": "stream",
     "text": [
      "<class 'pandas.core.frame.DataFrame'>\n",
      "RangeIndex: 35604 entries, 0 to 35603\n",
      "Data columns (total 13 columns):\n",
      " #   Column               Non-Null Count  Dtype  \n",
      "---  ------               --------------  -----  \n",
      " 0   ObjectId             35604 non-null  int64  \n",
      " 1   Country              35604 non-null  object \n",
      " 2   ISO2                 0 non-null      float64\n",
      " 3   ISO3                 35604 non-null  object \n",
      " 4   Indicator            35604 non-null  object \n",
      " 5   Unit                 35604 non-null  object \n",
      " 6   Source               35604 non-null  object \n",
      " 7   CTS_Code             35604 non-null  object \n",
      " 8   CTS_Name             35604 non-null  object \n",
      " 9   CTS_Full_Descriptor  35604 non-null  object \n",
      " 10  Measure              35604 non-null  object \n",
      " 11  Date                 35604 non-null  object \n",
      " 12  Value                35604 non-null  float64\n",
      "dtypes: float64(2), int64(1), object(10)\n",
      "memory usage: 3.5+ MB\n"
     ]
    }
   ],
   "source": [
    "df.info()"
   ]
  },
  {
   "cell_type": "code",
   "execution_count": 4,
   "id": "81be6704",
   "metadata": {
    "execution": {
     "iopub.execute_input": "2025-04-26T07:11:28.106471Z",
     "iopub.status.busy": "2025-04-26T07:11:28.105747Z",
     "iopub.status.idle": "2025-04-26T07:11:28.147778Z",
     "shell.execute_reply": "2025-04-26T07:11:28.146732Z"
    },
    "papermill": {
     "duration": 0.055584,
     "end_time": "2025-04-26T07:11:28.149376",
     "exception": false,
     "start_time": "2025-04-26T07:11:28.093792",
     "status": "completed"
    },
    "tags": []
   },
   "outputs": [
    {
     "name": "stdout",
     "output_type": "stream",
     "text": [
      "Unique values for ObjectId:\n",
      "[    1     2     3 ... 35602 35603 35604]\n",
      "\n",
      "Unique values for Country:\n",
      "['World']\n",
      "\n",
      "Unique values for ISO2:\n",
      "[nan]\n",
      "\n",
      "Unique values for ISO3:\n",
      "['WLD']\n",
      "\n",
      "Unique values for Indicator:\n",
      "['Change in mean sea level: Sea level: TOPEX.Poseidon'\n",
      " 'Change in mean sea level: Sea level: Jason.1'\n",
      " 'Change in mean sea level: Sea level: Jason.2'\n",
      " 'Change in mean sea level: Sea level: Jason.3'\n",
      " 'Change in mean sea level: Sea level: Trend']\n",
      "\n",
      "Unique values for Unit:\n",
      "['Millimeters']\n",
      "\n",
      "Unique values for Source:\n",
      "['National Oceanic and Atmospheric Administration (NOAA). 2020. Sea Level Rise. Laboratory for Satellite Altimetry. https://www.star.nesdis.noaa.gov/socd/lsa/SeaLevelRise/LSA_SLR_timeseries.php. Accessed on 2022-12-08.']\n",
      "\n",
      "Unique values for CTS_Code:\n",
      "['ECCL']\n",
      "\n",
      "Unique values for CTS_Name:\n",
      "['Change in Mean Sea Level']\n",
      "\n",
      "Unique values for CTS_Full_Descriptor:\n",
      "['Environment, Climate Change, Climate Indicators, Change in Mean Sea Level']\n",
      "\n",
      "Unique values for Measure:\n",
      "['Andaman Sea' 'Arabian Sea' 'Atlantic Ocean' 'Baltic Sea' 'Bay Bengal'\n",
      " 'Caribbean Sea' 'Gulf Mexico' 'Indian Ocean' 'Indonesian' 'Mediterranean'\n",
      " 'Nino' 'North Pacific' 'North Sea' 'Pacific Ocean' 'Persian Gulf'\n",
      " 'Sea Japan' 'Sea Okhotsk' 'South China' 'Southern Ocean' 'Tropics'\n",
      " 'World' 'Yellow Sea' 'Adriatic Sea' 'Bering Sea' 'North Atlantic']\n",
      "\n",
      "Unique values for Date:\n",
      "['D12/17/1992' 'D12/18/1992' 'D12/26/1992' ... 'D10/31/2022' 'D11/07/2022'\n",
      " 'D11/08/2022']\n",
      "\n",
      "Unique values for Value:\n",
      "[-10.34 -18.46 -15.41 ... 197.9    2.4    2.83]\n",
      "\n"
     ]
    }
   ],
   "source": [
    "# Display unique values for each column\n",
    "for column in df.columns:\n",
    "    unique_values = df[column].unique()\n",
    "    print(f\"Unique values for {column}:\\n{unique_values}\\n\")"
   ]
  },
  {
   "cell_type": "markdown",
   "id": "7e02e89a",
   "metadata": {
    "papermill": {
     "duration": 0.011452,
     "end_time": "2025-04-26T07:11:28.233944",
     "exception": false,
     "start_time": "2025-04-26T07:11:28.222492",
     "status": "completed"
    },
    "tags": []
   },
   "source": [
    "## 6. Data Cleaning, Preparation, and Wrangling"
   ]
  },
  {
   "cell_type": "markdown",
   "id": "5177b6f9",
   "metadata": {
    "papermill": {
     "duration": 0.010544,
     "end_time": "2025-04-26T07:11:28.255272",
     "exception": false,
     "start_time": "2025-04-26T07:11:28.244728",
     "status": "completed"
    },
    "tags": []
   },
   "source": [
    "#### 6.1 Check for missing values"
   ]
  },
  {
   "cell_type": "code",
   "execution_count": 5,
   "id": "c42f1916",
   "metadata": {
    "execution": {
     "iopub.execute_input": "2025-04-26T07:11:28.278205Z",
     "iopub.status.busy": "2025-04-26T07:11:28.277530Z",
     "iopub.status.idle": "2025-04-26T07:11:28.303522Z",
     "shell.execute_reply": "2025-04-26T07:11:28.302714Z"
    },
    "papermill": {
     "duration": 0.038867,
     "end_time": "2025-04-26T07:11:28.304895",
     "exception": false,
     "start_time": "2025-04-26T07:11:28.266028",
     "status": "completed"
    },
    "tags": []
   },
   "outputs": [
    {
     "data": {
      "text/plain": [
       "ObjectId                   0\n",
       "Country                    0\n",
       "ISO2                   35604\n",
       "ISO3                       0\n",
       "Indicator                  0\n",
       "Unit                       0\n",
       "Source                     0\n",
       "CTS_Code                   0\n",
       "CTS_Name                   0\n",
       "CTS_Full_Descriptor        0\n",
       "Measure                    0\n",
       "Date                       0\n",
       "Value                      0\n",
       "dtype: int64"
      ]
     },
     "execution_count": 5,
     "metadata": {},
     "output_type": "execute_result"
    }
   ],
   "source": [
    "# Check for missing values\n",
    "df.isnull().sum()"
   ]
  },
  {
   "cell_type": "markdown",
   "id": "79295b81",
   "metadata": {
    "papermill": {
     "duration": 0.010478,
     "end_time": "2025-04-26T07:11:28.326198",
     "exception": false,
     "start_time": "2025-04-26T07:11:28.315720",
     "status": "completed"
    },
    "tags": []
   },
   "source": [
    "Since the values in all rows of column 'ISO2' is null, so we have to drop the columns."
   ]
  },
  {
   "cell_type": "markdown",
   "id": "5460a085",
   "metadata": {
    "papermill": {
     "duration": 0.010518,
     "end_time": "2025-04-26T07:11:28.348366",
     "exception": false,
     "start_time": "2025-04-26T07:11:28.337848",
     "status": "completed"
    },
    "tags": []
   },
   "source": [
    "#### 6.2 Handle missing values and drop unnecessary columns"
   ]
  },
  {
   "cell_type": "code",
   "execution_count": 6,
   "id": "9e3150b3",
   "metadata": {
    "execution": {
     "iopub.execute_input": "2025-04-26T07:11:28.371221Z",
     "iopub.status.busy": "2025-04-26T07:11:28.370895Z",
     "iopub.status.idle": "2025-04-26T07:11:28.379161Z",
     "shell.execute_reply": "2025-04-26T07:11:28.378372Z"
    },
    "papermill": {
     "duration": 0.021157,
     "end_time": "2025-04-26T07:11:28.380484",
     "exception": false,
     "start_time": "2025-04-26T07:11:28.359327",
     "status": "completed"
    },
    "tags": []
   },
   "outputs": [],
   "source": [
    "# Drop 'ObjectId', 'Country', 'ISO2', 'ISO3', 'Indicator','Source', 'CTS_Code', 'CTS_Name', 'CTS_Full_Descriptor'\n",
    "df.drop(columns=['ObjectId', 'Country', 'ISO2', 'ISO3', 'Indicator','Source', 'CTS_Code', 'CTS_Name', 'CTS_Full_Descriptor'], inplace=True)"
   ]
  },
  {
   "cell_type": "markdown",
   "id": "f57644e1",
   "metadata": {
    "papermill": {
     "duration": 0.010311,
     "end_time": "2025-04-26T07:11:28.401822",
     "exception": false,
     "start_time": "2025-04-26T07:11:28.391511",
     "status": "completed"
    },
    "tags": []
   },
   "source": [
    "Drop all the columns that has no meaning and provide no information. "
   ]
  },
  {
   "cell_type": "markdown",
   "id": "5ecebac9",
   "metadata": {
    "papermill": {
     "duration": 0.010405,
     "end_time": "2025-04-26T07:11:28.422747",
     "exception": false,
     "start_time": "2025-04-26T07:11:28.412342",
     "status": "completed"
    },
    "tags": []
   },
   "source": [
    "#### 6.3 Checking for duplicates"
   ]
  },
  {
   "cell_type": "code",
   "execution_count": 7,
   "id": "1ecf5bb2",
   "metadata": {
    "execution": {
     "iopub.execute_input": "2025-04-26T07:11:28.445313Z",
     "iopub.status.busy": "2025-04-26T07:11:28.444994Z",
     "iopub.status.idle": "2025-04-26T07:11:28.461842Z",
     "shell.execute_reply": "2025-04-26T07:11:28.461058Z"
    },
    "papermill": {
     "duration": 0.029764,
     "end_time": "2025-04-26T07:11:28.463220",
     "exception": false,
     "start_time": "2025-04-26T07:11:28.433456",
     "status": "completed"
    },
    "tags": []
   },
   "outputs": [
    {
     "data": {
      "text/plain": [
       "0"
      ]
     },
     "execution_count": 7,
     "metadata": {},
     "output_type": "execute_result"
    }
   ],
   "source": [
    "df.duplicated().sum()"
   ]
  },
  {
   "cell_type": "markdown",
   "id": "634124f0",
   "metadata": {
    "papermill": {
     "duration": 0.010609,
     "end_time": "2025-04-26T07:11:28.484926",
     "exception": false,
     "start_time": "2025-04-26T07:11:28.474317",
     "status": "completed"
    },
    "tags": []
   },
   "source": [
    "No duplicate column found, so there is no need to drop any rows."
   ]
  },
  {
   "cell_type": "markdown",
   "id": "5369971d",
   "metadata": {
    "papermill": {
     "duration": 0.010456,
     "end_time": "2025-04-26T07:11:28.506255",
     "exception": false,
     "start_time": "2025-04-26T07:11:28.495799",
     "status": "completed"
    },
    "tags": []
   },
   "source": [
    "#### 6.4 Stardardize the 'date' formats"
   ]
  },
  {
   "cell_type": "code",
   "execution_count": 8,
   "id": "d3bd5fd2",
   "metadata": {
    "execution": {
     "iopub.execute_input": "2025-04-26T07:11:28.529042Z",
     "iopub.status.busy": "2025-04-26T07:11:28.528641Z",
     "iopub.status.idle": "2025-04-26T07:11:28.556656Z",
     "shell.execute_reply": "2025-04-26T07:11:28.555767Z"
    },
    "papermill": {
     "duration": 0.041454,
     "end_time": "2025-04-26T07:11:28.558199",
     "exception": false,
     "start_time": "2025-04-26T07:11:28.516745",
     "status": "completed"
    },
    "tags": []
   },
   "outputs": [
    {
     "data": {
      "text/html": [
       "<div>\n",
       "<style scoped>\n",
       "    .dataframe tbody tr th:only-of-type {\n",
       "        vertical-align: middle;\n",
       "    }\n",
       "\n",
       "    .dataframe tbody tr th {\n",
       "        vertical-align: top;\n",
       "    }\n",
       "\n",
       "    .dataframe thead th {\n",
       "        text-align: right;\n",
       "    }\n",
       "</style>\n",
       "<table border=\"1\" class=\"dataframe\">\n",
       "  <thead>\n",
       "    <tr style=\"text-align: right;\">\n",
       "      <th></th>\n",
       "      <th>Unit</th>\n",
       "      <th>Measure</th>\n",
       "      <th>Date</th>\n",
       "      <th>Value</th>\n",
       "    </tr>\n",
       "  </thead>\n",
       "  <tbody>\n",
       "    <tr>\n",
       "      <th>0</th>\n",
       "      <td>Millimeters</td>\n",
       "      <td>Andaman Sea</td>\n",
       "      <td>1992-12-17</td>\n",
       "      <td>-10.34</td>\n",
       "    </tr>\n",
       "    <tr>\n",
       "      <th>1</th>\n",
       "      <td>Millimeters</td>\n",
       "      <td>Arabian Sea</td>\n",
       "      <td>1992-12-17</td>\n",
       "      <td>-18.46</td>\n",
       "    </tr>\n",
       "    <tr>\n",
       "      <th>2</th>\n",
       "      <td>Millimeters</td>\n",
       "      <td>Atlantic Ocean</td>\n",
       "      <td>1992-12-17</td>\n",
       "      <td>-15.41</td>\n",
       "    </tr>\n",
       "    <tr>\n",
       "      <th>3</th>\n",
       "      <td>Millimeters</td>\n",
       "      <td>Baltic Sea</td>\n",
       "      <td>1992-12-17</td>\n",
       "      <td>196.85</td>\n",
       "    </tr>\n",
       "    <tr>\n",
       "      <th>4</th>\n",
       "      <td>Millimeters</td>\n",
       "      <td>Bay Bengal</td>\n",
       "      <td>1992-12-17</td>\n",
       "      <td>3.27</td>\n",
       "    </tr>\n",
       "    <tr>\n",
       "      <th>...</th>\n",
       "      <td>...</td>\n",
       "      <td>...</td>\n",
       "      <td>...</td>\n",
       "      <td>...</td>\n",
       "    </tr>\n",
       "    <tr>\n",
       "      <th>35599</th>\n",
       "      <td>Millimeters</td>\n",
       "      <td>South China</td>\n",
       "      <td>2022-11-08</td>\n",
       "      <td>3.76</td>\n",
       "    </tr>\n",
       "    <tr>\n",
       "      <th>35600</th>\n",
       "      <td>Millimeters</td>\n",
       "      <td>Southern Ocean</td>\n",
       "      <td>2022-11-08</td>\n",
       "      <td>3.22</td>\n",
       "    </tr>\n",
       "    <tr>\n",
       "      <th>35601</th>\n",
       "      <td>Millimeters</td>\n",
       "      <td>Tropics</td>\n",
       "      <td>2022-11-08</td>\n",
       "      <td>3.11</td>\n",
       "    </tr>\n",
       "    <tr>\n",
       "      <th>35602</th>\n",
       "      <td>Millimeters</td>\n",
       "      <td>World</td>\n",
       "      <td>2022-11-08</td>\n",
       "      <td>3.07</td>\n",
       "    </tr>\n",
       "    <tr>\n",
       "      <th>35603</th>\n",
       "      <td>Millimeters</td>\n",
       "      <td>Yellow Sea</td>\n",
       "      <td>2022-11-08</td>\n",
       "      <td>2.75</td>\n",
       "    </tr>\n",
       "  </tbody>\n",
       "</table>\n",
       "<p>35604 rows × 4 columns</p>\n",
       "</div>"
      ],
      "text/plain": [
       "              Unit         Measure       Date   Value\n",
       "0      Millimeters     Andaman Sea 1992-12-17  -10.34\n",
       "1      Millimeters     Arabian Sea 1992-12-17  -18.46\n",
       "2      Millimeters  Atlantic Ocean 1992-12-17  -15.41\n",
       "3      Millimeters      Baltic Sea 1992-12-17  196.85\n",
       "4      Millimeters      Bay Bengal 1992-12-17    3.27\n",
       "...            ...             ...        ...     ...\n",
       "35599  Millimeters     South China 2022-11-08    3.76\n",
       "35600  Millimeters  Southern Ocean 2022-11-08    3.22\n",
       "35601  Millimeters         Tropics 2022-11-08    3.11\n",
       "35602  Millimeters           World 2022-11-08    3.07\n",
       "35603  Millimeters      Yellow Sea 2022-11-08    2.75\n",
       "\n",
       "[35604 rows x 4 columns]"
      ]
     },
     "execution_count": 8,
     "metadata": {},
     "output_type": "execute_result"
    }
   ],
   "source": [
    "# Convert the dates values to a consistent format\n",
    "df['Date'] = pd.to_datetime(df['Date'], format='D%m/%d/%Y')\n",
    "df"
   ]
  },
  {
   "cell_type": "markdown",
   "id": "546731bd",
   "metadata": {
    "papermill": {
     "duration": 0.010651,
     "end_time": "2025-04-26T07:11:28.579881",
     "exception": false,
     "start_time": "2025-04-26T07:11:28.569230",
     "status": "completed"
    },
    "tags": []
   },
   "source": [
    "The values in the 'Date' column has been standardized by using format 'year-month-day'."
   ]
  },
  {
   "cell_type": "markdown",
   "id": "5001d4b0",
   "metadata": {
    "papermill": {
     "duration": 0.010641,
     "end_time": "2025-04-26T07:11:28.601462",
     "exception": false,
     "start_time": "2025-04-26T07:11:28.590821",
     "status": "completed"
    },
    "tags": []
   },
   "source": [
    "#### 6.5 Separate the values in 'Date' column\n",
    "Create new columns for year, month, and date "
   ]
  },
  {
   "cell_type": "code",
   "execution_count": 9,
   "id": "de644fd2",
   "metadata": {
    "execution": {
     "iopub.execute_input": "2025-04-26T07:11:28.624360Z",
     "iopub.status.busy": "2025-04-26T07:11:28.624040Z",
     "iopub.status.idle": "2025-04-26T07:11:28.639192Z",
     "shell.execute_reply": "2025-04-26T07:11:28.638351Z"
    },
    "papermill": {
     "duration": 0.028186,
     "end_time": "2025-04-26T07:11:28.640466",
     "exception": false,
     "start_time": "2025-04-26T07:11:28.612280",
     "status": "completed"
    },
    "tags": []
   },
   "outputs": [
    {
     "data": {
      "text/html": [
       "<div>\n",
       "<style scoped>\n",
       "    .dataframe tbody tr th:only-of-type {\n",
       "        vertical-align: middle;\n",
       "    }\n",
       "\n",
       "    .dataframe tbody tr th {\n",
       "        vertical-align: top;\n",
       "    }\n",
       "\n",
       "    .dataframe thead th {\n",
       "        text-align: right;\n",
       "    }\n",
       "</style>\n",
       "<table border=\"1\" class=\"dataframe\">\n",
       "  <thead>\n",
       "    <tr style=\"text-align: right;\">\n",
       "      <th></th>\n",
       "      <th>Unit</th>\n",
       "      <th>Measure</th>\n",
       "      <th>Date</th>\n",
       "      <th>Value</th>\n",
       "      <th>Year</th>\n",
       "      <th>Month</th>\n",
       "      <th>Day</th>\n",
       "    </tr>\n",
       "  </thead>\n",
       "  <tbody>\n",
       "    <tr>\n",
       "      <th>0</th>\n",
       "      <td>Millimeters</td>\n",
       "      <td>Andaman Sea</td>\n",
       "      <td>1992-12-17</td>\n",
       "      <td>-10.34</td>\n",
       "      <td>1992</td>\n",
       "      <td>12</td>\n",
       "      <td>17</td>\n",
       "    </tr>\n",
       "    <tr>\n",
       "      <th>1</th>\n",
       "      <td>Millimeters</td>\n",
       "      <td>Arabian Sea</td>\n",
       "      <td>1992-12-17</td>\n",
       "      <td>-18.46</td>\n",
       "      <td>1992</td>\n",
       "      <td>12</td>\n",
       "      <td>17</td>\n",
       "    </tr>\n",
       "    <tr>\n",
       "      <th>2</th>\n",
       "      <td>Millimeters</td>\n",
       "      <td>Atlantic Ocean</td>\n",
       "      <td>1992-12-17</td>\n",
       "      <td>-15.41</td>\n",
       "      <td>1992</td>\n",
       "      <td>12</td>\n",
       "      <td>17</td>\n",
       "    </tr>\n",
       "    <tr>\n",
       "      <th>3</th>\n",
       "      <td>Millimeters</td>\n",
       "      <td>Baltic Sea</td>\n",
       "      <td>1992-12-17</td>\n",
       "      <td>196.85</td>\n",
       "      <td>1992</td>\n",
       "      <td>12</td>\n",
       "      <td>17</td>\n",
       "    </tr>\n",
       "    <tr>\n",
       "      <th>4</th>\n",
       "      <td>Millimeters</td>\n",
       "      <td>Bay Bengal</td>\n",
       "      <td>1992-12-17</td>\n",
       "      <td>3.27</td>\n",
       "      <td>1992</td>\n",
       "      <td>12</td>\n",
       "      <td>17</td>\n",
       "    </tr>\n",
       "  </tbody>\n",
       "</table>\n",
       "</div>"
      ],
      "text/plain": [
       "          Unit         Measure       Date   Value  Year  Month  Day\n",
       "0  Millimeters     Andaman Sea 1992-12-17  -10.34  1992     12   17\n",
       "1  Millimeters     Arabian Sea 1992-12-17  -18.46  1992     12   17\n",
       "2  Millimeters  Atlantic Ocean 1992-12-17  -15.41  1992     12   17\n",
       "3  Millimeters      Baltic Sea 1992-12-17  196.85  1992     12   17\n",
       "4  Millimeters      Bay Bengal 1992-12-17    3.27  1992     12   17"
      ]
     },
     "execution_count": 9,
     "metadata": {},
     "output_type": "execute_result"
    }
   ],
   "source": [
    "df['Year'] = df['Date'].dt.year\n",
    "df['Month'] = df['Date'].dt.month\n",
    "df['Day'] = df['Date'].dt.day\n",
    "df.head()"
   ]
  },
  {
   "cell_type": "markdown",
   "id": "f318f8ab",
   "metadata": {
    "papermill": {
     "duration": 0.010684,
     "end_time": "2025-04-26T07:11:28.662464",
     "exception": false,
     "start_time": "2025-04-26T07:11:28.651780",
     "status": "completed"
    },
    "tags": []
   },
   "source": [
    "#### 6.6 Lowercase the value in 'Unit' column."
   ]
  },
  {
   "cell_type": "code",
   "execution_count": 10,
   "id": "5610b5fb",
   "metadata": {
    "execution": {
     "iopub.execute_input": "2025-04-26T07:11:28.685866Z",
     "iopub.status.busy": "2025-04-26T07:11:28.685535Z",
     "iopub.status.idle": "2025-04-26T07:11:28.703649Z",
     "shell.execute_reply": "2025-04-26T07:11:28.702767Z"
    },
    "papermill": {
     "duration": 0.031577,
     "end_time": "2025-04-26T07:11:28.705066",
     "exception": false,
     "start_time": "2025-04-26T07:11:28.673489",
     "status": "completed"
    },
    "tags": []
   },
   "outputs": [
    {
     "data": {
      "text/html": [
       "<div>\n",
       "<style scoped>\n",
       "    .dataframe tbody tr th:only-of-type {\n",
       "        vertical-align: middle;\n",
       "    }\n",
       "\n",
       "    .dataframe tbody tr th {\n",
       "        vertical-align: top;\n",
       "    }\n",
       "\n",
       "    .dataframe thead th {\n",
       "        text-align: right;\n",
       "    }\n",
       "</style>\n",
       "<table border=\"1\" class=\"dataframe\">\n",
       "  <thead>\n",
       "    <tr style=\"text-align: right;\">\n",
       "      <th></th>\n",
       "      <th>Unit</th>\n",
       "      <th>Measure</th>\n",
       "      <th>Date</th>\n",
       "      <th>Value</th>\n",
       "      <th>Year</th>\n",
       "      <th>Month</th>\n",
       "      <th>Day</th>\n",
       "    </tr>\n",
       "  </thead>\n",
       "  <tbody>\n",
       "    <tr>\n",
       "      <th>0</th>\n",
       "      <td>millimeters</td>\n",
       "      <td>Andaman Sea</td>\n",
       "      <td>1992-12-17</td>\n",
       "      <td>-10.34</td>\n",
       "      <td>1992</td>\n",
       "      <td>12</td>\n",
       "      <td>17</td>\n",
       "    </tr>\n",
       "    <tr>\n",
       "      <th>1</th>\n",
       "      <td>millimeters</td>\n",
       "      <td>Arabian Sea</td>\n",
       "      <td>1992-12-17</td>\n",
       "      <td>-18.46</td>\n",
       "      <td>1992</td>\n",
       "      <td>12</td>\n",
       "      <td>17</td>\n",
       "    </tr>\n",
       "    <tr>\n",
       "      <th>2</th>\n",
       "      <td>millimeters</td>\n",
       "      <td>Atlantic Ocean</td>\n",
       "      <td>1992-12-17</td>\n",
       "      <td>-15.41</td>\n",
       "      <td>1992</td>\n",
       "      <td>12</td>\n",
       "      <td>17</td>\n",
       "    </tr>\n",
       "    <tr>\n",
       "      <th>3</th>\n",
       "      <td>millimeters</td>\n",
       "      <td>Baltic Sea</td>\n",
       "      <td>1992-12-17</td>\n",
       "      <td>196.85</td>\n",
       "      <td>1992</td>\n",
       "      <td>12</td>\n",
       "      <td>17</td>\n",
       "    </tr>\n",
       "    <tr>\n",
       "      <th>4</th>\n",
       "      <td>millimeters</td>\n",
       "      <td>Bay Bengal</td>\n",
       "      <td>1992-12-17</td>\n",
       "      <td>3.27</td>\n",
       "      <td>1992</td>\n",
       "      <td>12</td>\n",
       "      <td>17</td>\n",
       "    </tr>\n",
       "  </tbody>\n",
       "</table>\n",
       "</div>"
      ],
      "text/plain": [
       "          Unit         Measure       Date   Value  Year  Month  Day\n",
       "0  millimeters     Andaman Sea 1992-12-17  -10.34  1992     12   17\n",
       "1  millimeters     Arabian Sea 1992-12-17  -18.46  1992     12   17\n",
       "2  millimeters  Atlantic Ocean 1992-12-17  -15.41  1992     12   17\n",
       "3  millimeters      Baltic Sea 1992-12-17  196.85  1992     12   17\n",
       "4  millimeters      Bay Bengal 1992-12-17    3.27  1992     12   17"
      ]
     },
     "execution_count": 10,
     "metadata": {},
     "output_type": "execute_result"
    }
   ],
   "source": [
    "df['Unit'] = df['Unit'].str.lower()\n",
    "df.head()"
   ]
  },
  {
   "cell_type": "markdown",
   "id": "8c67007c",
   "metadata": {
    "papermill": {
     "duration": 0.010952,
     "end_time": "2025-04-26T07:11:28.727579",
     "exception": false,
     "start_time": "2025-04-26T07:11:28.716627",
     "status": "completed"
    },
    "tags": []
   },
   "source": [
    "### 6.7 Rename columns"
   ]
  },
  {
   "cell_type": "markdown",
   "id": "8ecb1c21",
   "metadata": {
    "papermill": {
     "duration": 0.010871,
     "end_time": "2025-04-26T07:11:28.750291",
     "exception": false,
     "start_time": "2025-04-26T07:11:28.739420",
     "status": "completed"
    },
    "tags": []
   },
   "source": [
    "#### 6.7.1 Renaming column 'Measure' to 'Region'"
   ]
  },
  {
   "cell_type": "code",
   "execution_count": 11,
   "id": "087f844a",
   "metadata": {
    "execution": {
     "iopub.execute_input": "2025-04-26T07:11:28.773974Z",
     "iopub.status.busy": "2025-04-26T07:11:28.773332Z",
     "iopub.status.idle": "2025-04-26T07:11:28.784055Z",
     "shell.execute_reply": "2025-04-26T07:11:28.783221Z"
    },
    "papermill": {
     "duration": 0.023917,
     "end_time": "2025-04-26T07:11:28.785363",
     "exception": false,
     "start_time": "2025-04-26T07:11:28.761446",
     "status": "completed"
    },
    "scrolled": true,
    "tags": []
   },
   "outputs": [
    {
     "data": {
      "text/html": [
       "<div>\n",
       "<style scoped>\n",
       "    .dataframe tbody tr th:only-of-type {\n",
       "        vertical-align: middle;\n",
       "    }\n",
       "\n",
       "    .dataframe tbody tr th {\n",
       "        vertical-align: top;\n",
       "    }\n",
       "\n",
       "    .dataframe thead th {\n",
       "        text-align: right;\n",
       "    }\n",
       "</style>\n",
       "<table border=\"1\" class=\"dataframe\">\n",
       "  <thead>\n",
       "    <tr style=\"text-align: right;\">\n",
       "      <th></th>\n",
       "      <th>Unit</th>\n",
       "      <th>Region</th>\n",
       "      <th>Date</th>\n",
       "      <th>Value</th>\n",
       "      <th>Year</th>\n",
       "      <th>Month</th>\n",
       "      <th>Day</th>\n",
       "    </tr>\n",
       "  </thead>\n",
       "  <tbody>\n",
       "    <tr>\n",
       "      <th>0</th>\n",
       "      <td>millimeters</td>\n",
       "      <td>Andaman Sea</td>\n",
       "      <td>1992-12-17</td>\n",
       "      <td>-10.34</td>\n",
       "      <td>1992</td>\n",
       "      <td>12</td>\n",
       "      <td>17</td>\n",
       "    </tr>\n",
       "    <tr>\n",
       "      <th>1</th>\n",
       "      <td>millimeters</td>\n",
       "      <td>Arabian Sea</td>\n",
       "      <td>1992-12-17</td>\n",
       "      <td>-18.46</td>\n",
       "      <td>1992</td>\n",
       "      <td>12</td>\n",
       "      <td>17</td>\n",
       "    </tr>\n",
       "    <tr>\n",
       "      <th>2</th>\n",
       "      <td>millimeters</td>\n",
       "      <td>Atlantic Ocean</td>\n",
       "      <td>1992-12-17</td>\n",
       "      <td>-15.41</td>\n",
       "      <td>1992</td>\n",
       "      <td>12</td>\n",
       "      <td>17</td>\n",
       "    </tr>\n",
       "    <tr>\n",
       "      <th>3</th>\n",
       "      <td>millimeters</td>\n",
       "      <td>Baltic Sea</td>\n",
       "      <td>1992-12-17</td>\n",
       "      <td>196.85</td>\n",
       "      <td>1992</td>\n",
       "      <td>12</td>\n",
       "      <td>17</td>\n",
       "    </tr>\n",
       "    <tr>\n",
       "      <th>4</th>\n",
       "      <td>millimeters</td>\n",
       "      <td>Bay Bengal</td>\n",
       "      <td>1992-12-17</td>\n",
       "      <td>3.27</td>\n",
       "      <td>1992</td>\n",
       "      <td>12</td>\n",
       "      <td>17</td>\n",
       "    </tr>\n",
       "  </tbody>\n",
       "</table>\n",
       "</div>"
      ],
      "text/plain": [
       "          Unit          Region       Date   Value  Year  Month  Day\n",
       "0  millimeters     Andaman Sea 1992-12-17  -10.34  1992     12   17\n",
       "1  millimeters     Arabian Sea 1992-12-17  -18.46  1992     12   17\n",
       "2  millimeters  Atlantic Ocean 1992-12-17  -15.41  1992     12   17\n",
       "3  millimeters      Baltic Sea 1992-12-17  196.85  1992     12   17\n",
       "4  millimeters      Bay Bengal 1992-12-17    3.27  1992     12   17"
      ]
     },
     "execution_count": 11,
     "metadata": {},
     "output_type": "execute_result"
    }
   ],
   "source": [
    "df.rename(columns={'Measure': 'Region'}, inplace=True)\n",
    "df.head()"
   ]
  },
  {
   "cell_type": "markdown",
   "id": "35b42c29",
   "metadata": {
    "papermill": {
     "duration": 0.011199,
     "end_time": "2025-04-26T07:11:28.808354",
     "exception": false,
     "start_time": "2025-04-26T07:11:28.797155",
     "status": "completed"
    },
    "tags": []
   },
   "source": [
    "The 'Measure' column has been renamed as 'Region'."
   ]
  },
  {
   "cell_type": "markdown",
   "id": "6acaf6c5",
   "metadata": {
    "papermill": {
     "duration": 0.011273,
     "end_time": "2025-04-26T07:11:28.831249",
     "exception": false,
     "start_time": "2025-04-26T07:11:28.819976",
     "status": "completed"
    },
    "tags": []
   },
   "source": [
    "### 6.8 Sort data\n",
    "#### 6.8.1 Sort by Value: To explore the highest and lowest value of the 'Mean Sea Level'"
   ]
  },
  {
   "cell_type": "code",
   "execution_count": 12,
   "id": "22fdebd4",
   "metadata": {
    "execution": {
     "iopub.execute_input": "2025-04-26T07:11:28.855612Z",
     "iopub.status.busy": "2025-04-26T07:11:28.855304Z",
     "iopub.status.idle": "2025-04-26T07:11:28.877787Z",
     "shell.execute_reply": "2025-04-26T07:11:28.876950Z"
    },
    "papermill": {
     "duration": 0.036341,
     "end_time": "2025-04-26T07:11:28.879367",
     "exception": false,
     "start_time": "2025-04-26T07:11:28.843026",
     "status": "completed"
    },
    "scrolled": true,
    "tags": []
   },
   "outputs": [
    {
     "data": {
      "text/html": [
       "<div>\n",
       "<style scoped>\n",
       "    .dataframe tbody tr th:only-of-type {\n",
       "        vertical-align: middle;\n",
       "    }\n",
       "\n",
       "    .dataframe tbody tr th {\n",
       "        vertical-align: top;\n",
       "    }\n",
       "\n",
       "    .dataframe thead th {\n",
       "        text-align: right;\n",
       "    }\n",
       "</style>\n",
       "<table border=\"1\" class=\"dataframe\">\n",
       "  <thead>\n",
       "    <tr style=\"text-align: right;\">\n",
       "      <th></th>\n",
       "      <th>Unit</th>\n",
       "      <th>Region</th>\n",
       "      <th>Date</th>\n",
       "      <th>Value</th>\n",
       "      <th>Year</th>\n",
       "      <th>Month</th>\n",
       "      <th>Day</th>\n",
       "    </tr>\n",
       "  </thead>\n",
       "  <tbody>\n",
       "    <tr>\n",
       "      <th>19840</th>\n",
       "      <td>millimeters</td>\n",
       "      <td>Baltic Sea</td>\n",
       "      <td>2010-02-21</td>\n",
       "      <td>-401.85</td>\n",
       "      <td>2010</td>\n",
       "      <td>2</td>\n",
       "      <td>21</td>\n",
       "    </tr>\n",
       "    <tr>\n",
       "      <th>26358</th>\n",
       "      <td>millimeters</td>\n",
       "      <td>Baltic Sea</td>\n",
       "      <td>2014-02-08</td>\n",
       "      <td>-392.05</td>\n",
       "      <td>2014</td>\n",
       "      <td>2</td>\n",
       "      <td>8</td>\n",
       "    </tr>\n",
       "    <tr>\n",
       "      <th>700</th>\n",
       "      <td>millimeters</td>\n",
       "      <td>Baltic Sea</td>\n",
       "      <td>1993-10-09</td>\n",
       "      <td>-381.95</td>\n",
       "      <td>1993</td>\n",
       "      <td>10</td>\n",
       "      <td>9</td>\n",
       "    </tr>\n",
       "    <tr>\n",
       "      <th>25345</th>\n",
       "      <td>millimeters</td>\n",
       "      <td>Baltic Sea</td>\n",
       "      <td>2013-03-22</td>\n",
       "      <td>-363.10</td>\n",
       "      <td>2013</td>\n",
       "      <td>3</td>\n",
       "      <td>22</td>\n",
       "    </tr>\n",
       "    <tr>\n",
       "      <th>2700</th>\n",
       "      <td>millimeters</td>\n",
       "      <td>Baltic Sea</td>\n",
       "      <td>1996-03-19</td>\n",
       "      <td>-354.55</td>\n",
       "      <td>1996</td>\n",
       "      <td>3</td>\n",
       "      <td>19</td>\n",
       "    </tr>\n",
       "    <tr>\n",
       "      <th>...</th>\n",
       "      <td>...</td>\n",
       "      <td>...</td>\n",
       "      <td>...</td>\n",
       "      <td>...</td>\n",
       "      <td>...</td>\n",
       "      <td>...</td>\n",
       "      <td>...</td>\n",
       "    </tr>\n",
       "    <tr>\n",
       "      <th>33010</th>\n",
       "      <td>millimeters</td>\n",
       "      <td>Baltic Sea</td>\n",
       "      <td>2020-01-20</td>\n",
       "      <td>472.47</td>\n",
       "      <td>2020</td>\n",
       "      <td>1</td>\n",
       "      <td>20</td>\n",
       "    </tr>\n",
       "    <tr>\n",
       "      <th>13052</th>\n",
       "      <td>millimeters</td>\n",
       "      <td>Baltic Sea</td>\n",
       "      <td>2005-01-15</td>\n",
       "      <td>486.20</td>\n",
       "      <td>2005</td>\n",
       "      <td>1</td>\n",
       "      <td>15</td>\n",
       "    </tr>\n",
       "    <tr>\n",
       "      <th>125</th>\n",
       "      <td>millimeters</td>\n",
       "      <td>Baltic Sea</td>\n",
       "      <td>1993-02-04</td>\n",
       "      <td>495.15</td>\n",
       "      <td>1993</td>\n",
       "      <td>2</td>\n",
       "      <td>4</td>\n",
       "    </tr>\n",
       "    <tr>\n",
       "      <th>15503</th>\n",
       "      <td>millimeters</td>\n",
       "      <td>Baltic Sea</td>\n",
       "      <td>2006-12-20</td>\n",
       "      <td>504.70</td>\n",
       "      <td>2006</td>\n",
       "      <td>12</td>\n",
       "      <td>20</td>\n",
       "    </tr>\n",
       "    <tr>\n",
       "      <th>28058</th>\n",
       "      <td>millimeters</td>\n",
       "      <td>Baltic Sea</td>\n",
       "      <td>2015-12-13</td>\n",
       "      <td>504.95</td>\n",
       "      <td>2015</td>\n",
       "      <td>12</td>\n",
       "      <td>13</td>\n",
       "    </tr>\n",
       "  </tbody>\n",
       "</table>\n",
       "<p>35604 rows × 7 columns</p>\n",
       "</div>"
      ],
      "text/plain": [
       "              Unit      Region       Date   Value  Year  Month  Day\n",
       "19840  millimeters  Baltic Sea 2010-02-21 -401.85  2010      2   21\n",
       "26358  millimeters  Baltic Sea 2014-02-08 -392.05  2014      2    8\n",
       "700    millimeters  Baltic Sea 1993-10-09 -381.95  1993     10    9\n",
       "25345  millimeters  Baltic Sea 2013-03-22 -363.10  2013      3   22\n",
       "2700   millimeters  Baltic Sea 1996-03-19 -354.55  1996      3   19\n",
       "...            ...         ...        ...     ...   ...    ...  ...\n",
       "33010  millimeters  Baltic Sea 2020-01-20  472.47  2020      1   20\n",
       "13052  millimeters  Baltic Sea 2005-01-15  486.20  2005      1   15\n",
       "125    millimeters  Baltic Sea 1993-02-04  495.15  1993      2    4\n",
       "15503  millimeters  Baltic Sea 2006-12-20  504.70  2006     12   20\n",
       "28058  millimeters  Baltic Sea 2015-12-13  504.95  2015     12   13\n",
       "\n",
       "[35604 rows x 7 columns]"
      ]
     },
     "execution_count": 12,
     "metadata": {},
     "output_type": "execute_result"
    }
   ],
   "source": [
    "df.sort_values(by=\"Value\", inplace=True)\n",
    "df"
   ]
  },
  {
   "cell_type": "markdown",
   "id": "0a838118",
   "metadata": {
    "papermill": {
     "duration": 0.01172,
     "end_time": "2025-04-26T07:11:28.903175",
     "exception": false,
     "start_time": "2025-04-26T07:11:28.891455",
     "status": "completed"
    },
    "tags": []
   },
   "source": [
    "We can see that the **lowest** value of mean sea level was on 21/2/2010 which is **-401.85 mm**. \n",
    "\n",
    "While the **highest** mean sea level has achieved was on 13/12/2015 which the value is **504.95 mm**.\n",
    "\n",
    "Both lowest and highest were achieve by **Baltic Region**. "
   ]
  },
  {
   "cell_type": "markdown",
   "id": "bf3a37ef",
   "metadata": {
    "papermill": {
     "duration": 0.011483,
     "end_time": "2025-04-26T07:11:28.926299",
     "exception": false,
     "start_time": "2025-04-26T07:11:28.914816",
     "status": "completed"
    },
    "tags": []
   },
   "source": [
    "#### 6.8.2 Sort by Date"
   ]
  },
  {
   "cell_type": "code",
   "execution_count": 13,
   "id": "2d00ea77",
   "metadata": {
    "execution": {
     "iopub.execute_input": "2025-04-26T07:11:28.950698Z",
     "iopub.status.busy": "2025-04-26T07:11:28.950310Z",
     "iopub.status.idle": "2025-04-26T07:11:28.971626Z",
     "shell.execute_reply": "2025-04-26T07:11:28.970749Z"
    },
    "papermill": {
     "duration": 0.035448,
     "end_time": "2025-04-26T07:11:28.973189",
     "exception": false,
     "start_time": "2025-04-26T07:11:28.937741",
     "status": "completed"
    },
    "tags": []
   },
   "outputs": [
    {
     "data": {
      "text/html": [
       "<div>\n",
       "<style scoped>\n",
       "    .dataframe tbody tr th:only-of-type {\n",
       "        vertical-align: middle;\n",
       "    }\n",
       "\n",
       "    .dataframe tbody tr th {\n",
       "        vertical-align: top;\n",
       "    }\n",
       "\n",
       "    .dataframe thead th {\n",
       "        text-align: right;\n",
       "    }\n",
       "</style>\n",
       "<table border=\"1\" class=\"dataframe\">\n",
       "  <thead>\n",
       "    <tr style=\"text-align: right;\">\n",
       "      <th></th>\n",
       "      <th>Unit</th>\n",
       "      <th>Region</th>\n",
       "      <th>Date</th>\n",
       "      <th>Value</th>\n",
       "      <th>Year</th>\n",
       "      <th>Month</th>\n",
       "      <th>Day</th>\n",
       "    </tr>\n",
       "  </thead>\n",
       "  <tbody>\n",
       "    <tr>\n",
       "      <th>6</th>\n",
       "      <td>millimeters</td>\n",
       "      <td>Gulf Mexico</td>\n",
       "      <td>1992-12-17</td>\n",
       "      <td>-3.95</td>\n",
       "      <td>1992</td>\n",
       "      <td>12</td>\n",
       "      <td>17</td>\n",
       "    </tr>\n",
       "    <tr>\n",
       "      <th>21</th>\n",
       "      <td>millimeters</td>\n",
       "      <td>Yellow Sea</td>\n",
       "      <td>1992-12-17</td>\n",
       "      <td>-70.61</td>\n",
       "      <td>1992</td>\n",
       "      <td>12</td>\n",
       "      <td>17</td>\n",
       "    </tr>\n",
       "    <tr>\n",
       "      <th>7</th>\n",
       "      <td>millimeters</td>\n",
       "      <td>Indian Ocean</td>\n",
       "      <td>1992-12-17</td>\n",
       "      <td>-27.63</td>\n",
       "      <td>1992</td>\n",
       "      <td>12</td>\n",
       "      <td>17</td>\n",
       "    </tr>\n",
       "    <tr>\n",
       "      <th>10</th>\n",
       "      <td>millimeters</td>\n",
       "      <td>Nino</td>\n",
       "      <td>1992-12-17</td>\n",
       "      <td>-3.13</td>\n",
       "      <td>1992</td>\n",
       "      <td>12</td>\n",
       "      <td>17</td>\n",
       "    </tr>\n",
       "    <tr>\n",
       "      <th>12</th>\n",
       "      <td>millimeters</td>\n",
       "      <td>North Sea</td>\n",
       "      <td>1992-12-17</td>\n",
       "      <td>44.01</td>\n",
       "      <td>1992</td>\n",
       "      <td>12</td>\n",
       "      <td>17</td>\n",
       "    </tr>\n",
       "    <tr>\n",
       "      <th>...</th>\n",
       "      <td>...</td>\n",
       "      <td>...</td>\n",
       "      <td>...</td>\n",
       "      <td>...</td>\n",
       "      <td>...</td>\n",
       "      <td>...</td>\n",
       "      <td>...</td>\n",
       "    </tr>\n",
       "    <tr>\n",
       "      <th>35602</th>\n",
       "      <td>millimeters</td>\n",
       "      <td>World</td>\n",
       "      <td>2022-11-08</td>\n",
       "      <td>3.07</td>\n",
       "      <td>2022</td>\n",
       "      <td>11</td>\n",
       "      <td>8</td>\n",
       "    </tr>\n",
       "    <tr>\n",
       "      <th>35587</th>\n",
       "      <td>millimeters</td>\n",
       "      <td>Gulf Mexico</td>\n",
       "      <td>2022-11-08</td>\n",
       "      <td>4.29</td>\n",
       "      <td>2022</td>\n",
       "      <td>11</td>\n",
       "      <td>8</td>\n",
       "    </tr>\n",
       "    <tr>\n",
       "      <th>35600</th>\n",
       "      <td>millimeters</td>\n",
       "      <td>Southern Ocean</td>\n",
       "      <td>2022-11-08</td>\n",
       "      <td>3.22</td>\n",
       "      <td>2022</td>\n",
       "      <td>11</td>\n",
       "      <td>8</td>\n",
       "    </tr>\n",
       "    <tr>\n",
       "      <th>35581</th>\n",
       "      <td>millimeters</td>\n",
       "      <td>Arabian Sea</td>\n",
       "      <td>2022-11-08</td>\n",
       "      <td>3.59</td>\n",
       "      <td>2022</td>\n",
       "      <td>11</td>\n",
       "      <td>8</td>\n",
       "    </tr>\n",
       "    <tr>\n",
       "      <th>35592</th>\n",
       "      <td>millimeters</td>\n",
       "      <td>North Atlantic</td>\n",
       "      <td>2022-11-08</td>\n",
       "      <td>2.83</td>\n",
       "      <td>2022</td>\n",
       "      <td>11</td>\n",
       "      <td>8</td>\n",
       "    </tr>\n",
       "  </tbody>\n",
       "</table>\n",
       "<p>35604 rows × 7 columns</p>\n",
       "</div>"
      ],
      "text/plain": [
       "              Unit          Region       Date  Value  Year  Month  Day\n",
       "6      millimeters     Gulf Mexico 1992-12-17  -3.95  1992     12   17\n",
       "21     millimeters      Yellow Sea 1992-12-17 -70.61  1992     12   17\n",
       "7      millimeters    Indian Ocean 1992-12-17 -27.63  1992     12   17\n",
       "10     millimeters            Nino 1992-12-17  -3.13  1992     12   17\n",
       "12     millimeters       North Sea 1992-12-17  44.01  1992     12   17\n",
       "...            ...             ...        ...    ...   ...    ...  ...\n",
       "35602  millimeters           World 2022-11-08   3.07  2022     11    8\n",
       "35587  millimeters     Gulf Mexico 2022-11-08   4.29  2022     11    8\n",
       "35600  millimeters  Southern Ocean 2022-11-08   3.22  2022     11    8\n",
       "35581  millimeters     Arabian Sea 2022-11-08   3.59  2022     11    8\n",
       "35592  millimeters  North Atlantic 2022-11-08   2.83  2022     11    8\n",
       "\n",
       "[35604 rows x 7 columns]"
      ]
     },
     "execution_count": 13,
     "metadata": {},
     "output_type": "execute_result"
    }
   ],
   "source": [
    "df.sort_values(by=[\"Date\"], inplace=True)\n",
    "df"
   ]
  },
  {
   "cell_type": "markdown",
   "id": "9c603d5b",
   "metadata": {
    "papermill": {
     "duration": 0.01214,
     "end_time": "2025-04-26T07:11:28.998155",
     "exception": false,
     "start_time": "2025-04-26T07:11:28.986015",
     "status": "completed"
    },
    "tags": []
   },
   "source": [
    "### 6.9 Discretization and Binning"
   ]
  },
  {
   "cell_type": "markdown",
   "id": "560cf9b0",
   "metadata": {
    "papermill": {
     "duration": 0.012066,
     "end_time": "2025-04-26T07:11:29.023067",
     "exception": false,
     "start_time": "2025-04-26T07:11:29.011001",
     "status": "completed"
    },
    "tags": []
   },
   "source": [
    "From the 'Sort by value', we obtained the min and max value for the 'Value' that represent the mean sea level, and from there we can create the bin according to the appropriate bin size."
   ]
  },
  {
   "cell_type": "code",
   "execution_count": 14,
   "id": "5fc20037",
   "metadata": {
    "execution": {
     "iopub.execute_input": "2025-04-26T07:11:29.049041Z",
     "iopub.status.busy": "2025-04-26T07:11:29.048689Z",
     "iopub.status.idle": "2025-04-26T07:11:29.068932Z",
     "shell.execute_reply": "2025-04-26T07:11:29.068044Z"
    },
    "papermill": {
     "duration": 0.035188,
     "end_time": "2025-04-26T07:11:29.070472",
     "exception": false,
     "start_time": "2025-04-26T07:11:29.035284",
     "status": "completed"
    },
    "scrolled": true,
    "tags": []
   },
   "outputs": [
    {
     "data": {
      "text/plain": [
       "6           (-50, 0]\n",
       "21       (-100, -50]\n",
       "7           (-50, 0]\n",
       "10          (-50, 0]\n",
       "12           (0, 50]\n",
       "            ...     \n",
       "35602        (0, 50]\n",
       "35587        (0, 50]\n",
       "35600        (0, 50]\n",
       "35581        (0, 50]\n",
       "35592        (0, 50]\n",
       "Name: Value, Length: 35604, dtype: category\n",
       "Categories (18, interval[int64, right]): [(-400, -350] < (-350, -300] < (-300, -250] < (-250, -200] ... (300, 350] < (350, 400] < (400, 450] < (450, 500]]"
      ]
     },
     "execution_count": 14,
     "metadata": {},
     "output_type": "execute_result"
    }
   ],
   "source": [
    "# Define bin edges for the \"Value\" column\n",
    "bins = [-400, -350, -300, -250, -200, -150, -100, -50, 0, 50, 100, 150, 200, 250, 300, 350, 400, 450, 500]\n",
    "\n",
    "# Binning the \"Value\" Column\n",
    "cats = pd.cut(df['Value'],bins)\n",
    "cats"
   ]
  },
  {
   "cell_type": "code",
   "execution_count": 15,
   "id": "8f78ae6f",
   "metadata": {
    "execution": {
     "iopub.execute_input": "2025-04-26T07:11:29.096454Z",
     "iopub.status.busy": "2025-04-26T07:11:29.096150Z",
     "iopub.status.idle": "2025-04-26T07:11:29.105549Z",
     "shell.execute_reply": "2025-04-26T07:11:29.104644Z"
    },
    "papermill": {
     "duration": 0.024167,
     "end_time": "2025-04-26T07:11:29.106971",
     "exception": false,
     "start_time": "2025-04-26T07:11:29.082804",
     "status": "completed"
    },
    "tags": []
   },
   "outputs": [
    {
     "name": "stderr",
     "output_type": "stream",
     "text": [
      "/tmp/ipykernel_13/134442694.py:2: FutureWarning: pandas.value_counts is deprecated and will be removed in a future version. Use pd.Series(obj).value_counts() instead.\n",
      "  pd.value_counts(cats)\n"
     ]
    },
    {
     "data": {
      "text/plain": [
       "Value\n",
       "(0, 50]         13861\n",
       "(-50, 0]         8121\n",
       "(50, 100]        7268\n",
       "(100, 150]       2396\n",
       "(-100, -50]      2111\n",
       "(150, 200]        719\n",
       "(-150, -100]      513\n",
       "(200, 250]        209\n",
       "(-200, -150]      155\n",
       "(250, 300]         77\n",
       "(-250, -200]       51\n",
       "(300, 350]         38\n",
       "(-300, -250]       24\n",
       "(350, 400]         23\n",
       "(-350, -300]       15\n",
       "(450, 500]          8\n",
       "(400, 450]          6\n",
       "(-400, -350]        6\n",
       "Name: count, dtype: int64"
      ]
     },
     "execution_count": 15,
     "metadata": {},
     "output_type": "execute_result"
    }
   ],
   "source": [
    "# Counting the number of values in each of the bin\n",
    "pd.value_counts(cats)"
   ]
  },
  {
   "cell_type": "markdown",
   "id": "cdae8250",
   "metadata": {
    "papermill": {
     "duration": 0.011879,
     "end_time": "2025-04-26T07:11:29.131564",
     "exception": false,
     "start_time": "2025-04-26T07:11:29.119685",
     "status": "completed"
    },
    "tags": []
   },
   "source": [
    "The main purpose of this binning process is to gain insights into the distribution of values in the \"Value\" column. It also helps in detecting outliers."
   ]
  },
  {
   "cell_type": "markdown",
   "id": "bb69cf16",
   "metadata": {
    "papermill": {
     "duration": 0.012163,
     "end_time": "2025-04-26T07:11:29.155870",
     "exception": false,
     "start_time": "2025-04-26T07:11:29.143707",
     "status": "completed"
    },
    "tags": []
   },
   "source": [
    "## 7. Data Aggregation and Group Operations"
   ]
  },
  {
   "cell_type": "markdown",
   "id": "6643505d",
   "metadata": {
    "papermill": {
     "duration": 0.011872,
     "end_time": "2025-04-26T07:11:29.181213",
     "exception": false,
     "start_time": "2025-04-26T07:11:29.169341",
     "status": "completed"
    },
    "tags": []
   },
   "source": [
    "#### 7.1 Set_index: Mean of 'Global' sea level"
   ]
  },
  {
   "cell_type": "code",
   "execution_count": 16,
   "id": "2f8f3ba1",
   "metadata": {
    "execution": {
     "iopub.execute_input": "2025-04-26T07:11:29.206631Z",
     "iopub.status.busy": "2025-04-26T07:11:29.206330Z",
     "iopub.status.idle": "2025-04-26T07:11:29.221590Z",
     "shell.execute_reply": "2025-04-26T07:11:29.220679Z"
    },
    "papermill": {
     "duration": 0.029775,
     "end_time": "2025-04-26T07:11:29.223108",
     "exception": false,
     "start_time": "2025-04-26T07:11:29.193333",
     "status": "completed"
    },
    "tags": []
   },
   "outputs": [
    {
     "data": {
      "text/html": [
       "<div>\n",
       "<style scoped>\n",
       "    .dataframe tbody tr th:only-of-type {\n",
       "        vertical-align: middle;\n",
       "    }\n",
       "\n",
       "    .dataframe tbody tr th {\n",
       "        vertical-align: top;\n",
       "    }\n",
       "\n",
       "    .dataframe thead th {\n",
       "        text-align: right;\n",
       "    }\n",
       "</style>\n",
       "<table border=\"1\" class=\"dataframe\">\n",
       "  <thead>\n",
       "    <tr style=\"text-align: right;\">\n",
       "      <th></th>\n",
       "      <th>Value</th>\n",
       "    </tr>\n",
       "    <tr>\n",
       "      <th>Date</th>\n",
       "      <th></th>\n",
       "    </tr>\n",
       "  </thead>\n",
       "  <tbody>\n",
       "    <tr>\n",
       "      <th>1992-12-17</th>\n",
       "      <td>-15.95</td>\n",
       "    </tr>\n",
       "    <tr>\n",
       "      <th>1992-12-27</th>\n",
       "      <td>-17.65</td>\n",
       "    </tr>\n",
       "    <tr>\n",
       "      <th>1993-01-05</th>\n",
       "      <td>-14.55</td>\n",
       "    </tr>\n",
       "    <tr>\n",
       "      <th>1993-01-15</th>\n",
       "      <td>-19.55</td>\n",
       "    </tr>\n",
       "    <tr>\n",
       "      <th>1993-01-25</th>\n",
       "      <td>-24.95</td>\n",
       "    </tr>\n",
       "    <tr>\n",
       "      <th>...</th>\n",
       "      <td>...</td>\n",
       "    </tr>\n",
       "    <tr>\n",
       "      <th>2022-10-10</th>\n",
       "      <td>82.98</td>\n",
       "    </tr>\n",
       "    <tr>\n",
       "      <th>2022-10-19</th>\n",
       "      <td>82.68</td>\n",
       "    </tr>\n",
       "    <tr>\n",
       "      <th>2022-10-30</th>\n",
       "      <td>83.48</td>\n",
       "    </tr>\n",
       "    <tr>\n",
       "      <th>2022-11-08</th>\n",
       "      <td>84.28</td>\n",
       "    </tr>\n",
       "    <tr>\n",
       "      <th>2022-11-08</th>\n",
       "      <td>3.07</td>\n",
       "    </tr>\n",
       "  </tbody>\n",
       "</table>\n",
       "<p>1426 rows × 1 columns</p>\n",
       "</div>"
      ],
      "text/plain": [
       "            Value\n",
       "Date             \n",
       "1992-12-17 -15.95\n",
       "1992-12-27 -17.65\n",
       "1993-01-05 -14.55\n",
       "1993-01-15 -19.55\n",
       "1993-01-25 -24.95\n",
       "...           ...\n",
       "2022-10-10  82.98\n",
       "2022-10-19  82.68\n",
       "2022-10-30  83.48\n",
       "2022-11-08  84.28\n",
       "2022-11-08   3.07\n",
       "\n",
       "[1426 rows x 1 columns]"
      ]
     },
     "execution_count": 16,
     "metadata": {},
     "output_type": "execute_result"
    }
   ],
   "source": [
    "# Indexing with column 'Date' using 'set_index'\n",
    "global_mean_sea_level = df[df[\"Region\"] == \"World\"][[\"Date\", \"Value\"]].set_index(\"Date\")\n",
    "global_mean_sea_level"
   ]
  },
  {
   "cell_type": "markdown",
   "id": "aaa5fbba",
   "metadata": {
    "papermill": {
     "duration": 0.01276,
     "end_time": "2025-04-26T07:11:29.248405",
     "exception": false,
     "start_time": "2025-04-26T07:11:29.235645",
     "status": "completed"
    },
    "tags": []
   },
   "source": [
    "The mean sea level for global were count by using the \"Date\" and \"Value\" columns. The column \"Date\" are used as the index to create a time-series to represent the global mean sea level trend. "
   ]
  },
  {
   "cell_type": "markdown",
   "id": "4d3e9053",
   "metadata": {
    "papermill": {
     "duration": 0.012205,
     "end_time": "2025-04-26T07:11:29.273167",
     "exception": false,
     "start_time": "2025-04-26T07:11:29.260962",
     "status": "completed"
    },
    "tags": []
   },
   "source": [
    "#### 7.2 GroupBy: Annual Mean Values"
   ]
  },
  {
   "cell_type": "code",
   "execution_count": 17,
   "id": "7c357153",
   "metadata": {
    "execution": {
     "iopub.execute_input": "2025-04-26T07:11:29.299814Z",
     "iopub.status.busy": "2025-04-26T07:11:29.299522Z",
     "iopub.status.idle": "2025-04-26T07:11:29.309066Z",
     "shell.execute_reply": "2025-04-26T07:11:29.308295Z"
    },
    "papermill": {
     "duration": 0.02432,
     "end_time": "2025-04-26T07:11:29.310548",
     "exception": false,
     "start_time": "2025-04-26T07:11:29.286228",
     "status": "completed"
    },
    "tags": []
   },
   "outputs": [
    {
     "data": {
      "text/plain": [
       "Year\n",
       "1992     4.265600\n",
       "1993   -20.684635\n",
       "1994   -16.753576\n",
       "1995    -6.903635\n",
       "1996    -7.159048\n",
       "1997    -3.745188\n",
       "1998     0.425479\n",
       "1999     2.762812\n",
       "2000     3.911835\n",
       "2001     4.532603\n",
       "2002     4.368462\n",
       "2003    10.552680\n",
       "2004    11.026544\n",
       "2005     6.557321\n",
       "2006     9.242289\n",
       "2007    17.426356\n",
       "2008    30.510821\n",
       "2009    24.612352\n",
       "2010    30.322154\n",
       "2011    29.844335\n",
       "2012    42.438345\n",
       "2013    35.923380\n",
       "2014    40.601074\n",
       "2015    54.125600\n",
       "2016    59.508530\n",
       "2017    51.109914\n",
       "2018    52.734897\n",
       "2019    58.994843\n",
       "2020    75.688853\n",
       "2021    78.271222\n",
       "2022    80.918392\n",
       "Name: Value, dtype: float64"
      ]
     },
     "execution_count": 17,
     "metadata": {},
     "output_type": "execute_result"
    }
   ],
   "source": [
    "# Group data by year for seasonal/cyclical analysis\n",
    "annual_means = df.groupby(\"Year\")[\"Value\"].mean()\n",
    "annual_means"
   ]
  },
  {
   "cell_type": "markdown",
   "id": "9aeeea66",
   "metadata": {
    "papermill": {
     "duration": 0.012105,
     "end_time": "2025-04-26T07:11:29.335481",
     "exception": false,
     "start_time": "2025-04-26T07:11:29.323376",
     "status": "completed"
    },
    "tags": []
   },
   "source": [
    "#### 7.3 GroupBy: Mean Across Region"
   ]
  },
  {
   "cell_type": "code",
   "execution_count": 18,
   "id": "21d922d6",
   "metadata": {
    "execution": {
     "iopub.execute_input": "2025-04-26T07:11:29.361855Z",
     "iopub.status.busy": "2025-04-26T07:11:29.361530Z",
     "iopub.status.idle": "2025-04-26T07:11:29.371806Z",
     "shell.execute_reply": "2025-04-26T07:11:29.370975Z"
    },
    "papermill": {
     "duration": 0.024809,
     "end_time": "2025-04-26T07:11:29.373182",
     "exception": false,
     "start_time": "2025-04-26T07:11:29.348373",
     "status": "completed"
    },
    "tags": []
   },
   "outputs": [
    {
     "data": {
      "text/plain": [
       "Region\n",
       "Adriatic Sea      19.854718\n",
       "Andaman Sea       31.470049\n",
       "Arabian Sea       29.451895\n",
       "Atlantic Ocean    26.065631\n",
       "Baltic Sea        32.198034\n",
       "Bay Bengal        31.617029\n",
       "Bering Sea        10.880274\n",
       "Caribbean Sea     26.462477\n",
       "Gulf Mexico       34.548849\n",
       "Indian Ocean      26.434811\n",
       "Indonesian        36.088133\n",
       "Mediterranean     19.420147\n",
       "Nino              25.692447\n",
       "North Atlantic    21.459123\n",
       "North Pacific     24.437923\n",
       "North Sea         24.618869\n",
       "Pacific Ocean     23.514271\n",
       "Persian Gulf      33.066620\n",
       "Sea Japan         26.291622\n",
       "Sea Okhotsk       15.088947\n",
       "South China       30.992414\n",
       "Southern Ocean    26.759923\n",
       "Tropics           25.608717\n",
       "World             25.098927\n",
       "Yellow Sea        22.494916\n",
       "Name: Value, dtype: float64"
      ]
     },
     "execution_count": 18,
     "metadata": {},
     "output_type": "execute_result"
    }
   ],
   "source": [
    "# Group data by region for regional analysis\n",
    "regional_means = df.groupby(\"Region\")[\"Value\"].mean()\n",
    "regional_means"
   ]
  },
  {
   "cell_type": "markdown",
   "id": "095364ab",
   "metadata": {
    "papermill": {
     "duration": 0.012212,
     "end_time": "2025-04-26T07:11:29.398044",
     "exception": false,
     "start_time": "2025-04-26T07:11:29.385832",
     "status": "completed"
    },
    "tags": []
   },
   "source": [
    "## 8. Data Visualization"
   ]
  },
  {
   "cell_type": "markdown",
   "id": "2b81d87e",
   "metadata": {
    "papermill": {
     "duration": 0.012736,
     "end_time": "2025-04-26T07:11:29.423111",
     "exception": false,
     "start_time": "2025-04-26T07:11:29.410375",
     "status": "completed"
    },
    "tags": []
   },
   "source": [
    "### 8.1 Distribution of Mean Sea Level from all Regions\n",
    "\n",
    "The graph below was using the value 'bins' created in subsection 6.9."
   ]
  },
  {
   "cell_type": "code",
   "execution_count": 19,
   "id": "f211e50a",
   "metadata": {
    "execution": {
     "iopub.execute_input": "2025-04-26T07:11:29.449566Z",
     "iopub.status.busy": "2025-04-26T07:11:29.449242Z",
     "iopub.status.idle": "2025-04-26T07:11:29.827291Z",
     "shell.execute_reply": "2025-04-26T07:11:29.826461Z"
    },
    "papermill": {
     "duration": 0.392933,
     "end_time": "2025-04-26T07:11:29.828717",
     "exception": false,
     "start_time": "2025-04-26T07:11:29.435784",
     "status": "completed"
    },
    "tags": []
   },
   "outputs": [
    {
     "data": {
      "image/png": "[encoded data removed]",
      "text/plain": [
       "<Figure size 1000x600 with 1 Axes>"
      ]
     },
     "metadata": {},
     "output_type": "display_data"
    }
   ],
   "source": [
    "# Visualize the histogram\n",
    "plt.figure(figsize=(10, 6))\n",
    "plt.hist(df['Value'], bins=bins, edgecolor='black')\n",
    "plt.title('Distribution of Values with Discretization and Binning')\n",
    "plt.xlabel('Value')\n",
    "plt.ylabel('Frequency')\n",
    "plt.show()"
   ]
  },
  {
   "cell_type": "markdown",
   "id": "018fd862",
   "metadata": {
    "papermill": {
     "duration": 0.012951,
     "end_time": "2025-04-26T07:11:29.855117",
     "exception": false,
     "start_time": "2025-04-26T07:11:29.842166",
     "status": "completed"
    },
    "tags": []
   },
   "source": [
    "#### Insights:\n",
    "The histogram reveals the shape and spread of the \"Value\" data. The height of each bar represents the number of data points falling within that bin's range. "
   ]
  },
  {
   "cell_type": "markdown",
   "id": "2f6bf4bf",
   "metadata": {
    "papermill": {
     "duration": 0.012768,
     "end_time": "2025-04-26T07:11:29.880980",
     "exception": false,
     "start_time": "2025-04-26T07:11:29.868212",
     "status": "completed"
    },
    "tags": []
   },
   "source": [
    "### 8.2 Distribution of Mean Sea Level from 'Baltic Sea' Region\n",
    "\n",
    "Since it has the highest and lowest value of mean sea level (discovered in subsection 6.8.1), let's explore its distribution of the values. The bins categories obtained in subsection 6.9."
   ]
  },
  {
   "cell_type": "code",
   "execution_count": 20,
   "id": "f6b870b9",
   "metadata": {
    "execution": {
     "iopub.execute_input": "2025-04-26T07:11:29.908221Z",
     "iopub.status.busy": "2025-04-26T07:11:29.907882Z",
     "iopub.status.idle": "2025-04-26T07:11:29.916791Z",
     "shell.execute_reply": "2025-04-26T07:11:29.915940Z"
    },
    "papermill": {
     "duration": 0.024181,
     "end_time": "2025-04-26T07:11:29.918187",
     "exception": false,
     "start_time": "2025-04-26T07:11:29.894006",
     "status": "completed"
    },
    "tags": []
   },
   "outputs": [],
   "source": [
    "# Filter for Baltic Sea data\n",
    "df_filtered = df[df['Region'] == \"Baltic Sea\"]"
   ]
  },
  {
   "cell_type": "code",
   "execution_count": 21,
   "id": "b49f6668",
   "metadata": {
    "execution": {
     "iopub.execute_input": "2025-04-26T07:11:29.945504Z",
     "iopub.status.busy": "2025-04-26T07:11:29.945229Z",
     "iopub.status.idle": "2025-04-26T07:11:30.143751Z",
     "shell.execute_reply": "2025-04-26T07:11:30.142840Z"
    },
    "papermill": {
     "duration": 0.213848,
     "end_time": "2025-04-26T07:11:30.145400",
     "exception": false,
     "start_time": "2025-04-26T07:11:29.931552",
     "status": "completed"
    },
    "scrolled": true,
    "tags": []
   },
   "outputs": [
    {
     "data": {
      "image/png": "[encoded data removed]",
      "text/plain": [
       "<Figure size 1000x600 with 1 Axes>"
      ]
     },
     "metadata": {},
     "output_type": "display_data"
    }
   ],
   "source": [
    "# Visualize the histogram for Baltic Sea\n",
    "plt.figure(figsize=(10, 6))\n",
    "plt.hist(df_filtered['Value'], bins=bins, edgecolor='black')\n",
    "plt.title('Distribution of Values for Baltic Sea with Discretization and Binning')\n",
    "plt.xlabel('Value')\n",
    "plt.ylabel('Frequency')\n",
    "plt.show()"
   ]
  },
  {
   "cell_type": "markdown",
   "id": "808f8ef5",
   "metadata": {
    "papermill": {
     "duration": 0.014859,
     "end_time": "2025-04-26T07:11:30.174062",
     "exception": false,
     "start_time": "2025-04-26T07:11:30.159203",
     "status": "completed"
    },
    "tags": []
   },
   "source": [
    "#### Insights:\n",
    "The graph shows that the Baltic Sea have a central tendency. This depict that eventhough Baltic Sea had the highest and lowest value of mean sea level, it still had a consistent pattern and had a normal distribution of values."
   ]
  },
  {
   "cell_type": "markdown",
   "id": "6ccbe7b6",
   "metadata": {
    "papermill": {
     "duration": 0.013458,
     "end_time": "2025-04-26T07:11:30.201288",
     "exception": false,
     "start_time": "2025-04-26T07:11:30.187830",
     "status": "completed"
    },
    "tags": []
   },
   "source": [
    "### 8.3 Global Mean Sea Level Trend (all regions)\n",
    "By using the global mean (global_mean_sea_level) calculated in subsection 7.1, the graph below shows the trend for all the regions across the year of 1992- 2022."
   ]
  },
  {
   "cell_type": "code",
   "execution_count": 22,
   "id": "9f1a8ab5",
   "metadata": {
    "execution": {
     "iopub.execute_input": "2025-04-26T07:11:30.230176Z",
     "iopub.status.busy": "2025-04-26T07:11:30.229830Z",
     "iopub.status.idle": "2025-04-26T07:11:30.449695Z",
     "shell.execute_reply": "2025-04-26T07:11:30.448799Z"
    },
    "papermill": {
     "duration": 0.236307,
     "end_time": "2025-04-26T07:11:30.451403",
     "exception": false,
     "start_time": "2025-04-26T07:11:30.215096",
     "status": "completed"
    },
    "tags": []
   },
   "outputs": [
    {
     "data": {
      "image/png": "[encoded data removed]",
      "text/plain": [
       "<Figure size 640x480 with 1 Axes>"
      ]
     },
     "metadata": {},
     "output_type": "display_data"
    }
   ],
   "source": [
    "# Visualize global mean sea level trend\n",
    "plt.plot(global_mean_sea_level.index, global_mean_sea_level[\"Value\"])\n",
    "plt.xlabel(\"Year\")\n",
    "plt.ylabel(\"Mean Sea Level (mm)\")\n",
    "plt.title(\"Global Mean Sea Level Trend\")\n",
    "plt.show()"
   ]
  },
  {
   "cell_type": "markdown",
   "id": "23b1a7e5",
   "metadata": {
    "papermill": {
     "duration": 0.014243,
     "end_time": "2025-04-26T07:11:30.480426",
     "exception": false,
     "start_time": "2025-04-26T07:11:30.466183",
     "status": "completed"
    },
    "tags": []
   },
   "source": [
    "#### Insights:\n",
    "The graph depict a steady increase in mean sea level as year passed. The trend shows that eventhough the mean sea level in the next year are low, it will never lower than the record of the year before."
   ]
  },
  {
   "cell_type": "markdown",
   "id": "3885b8d5",
   "metadata": {
    "papermill": {
     "duration": 0.014293,
     "end_time": "2025-04-26T07:11:30.509087",
     "exception": false,
     "start_time": "2025-04-26T07:11:30.494794",
     "status": "completed"
    },
    "tags": []
   },
   "source": [
    "### 8.4 Mean Sea Level Change Annualy\n",
    "\n",
    "The value of mean sea level for annuarly (annual_means) was obtained after it was calculated in subsection 7.2. It is to see the change (seasonal/cyclical analysis) of the mean sea level accross years. "
   ]
  },
  {
   "cell_type": "code",
   "execution_count": 23,
   "id": "c59bb2b9",
   "metadata": {
    "execution": {
     "iopub.execute_input": "2025-04-26T07:11:30.539488Z",
     "iopub.status.busy": "2025-04-26T07:11:30.539171Z",
     "iopub.status.idle": "2025-04-26T07:11:30.732270Z",
     "shell.execute_reply": "2025-04-26T07:11:30.731511Z"
    },
    "papermill": {
     "duration": 0.210027,
     "end_time": "2025-04-26T07:11:30.733723",
     "exception": false,
     "start_time": "2025-04-26T07:11:30.523696",
     "status": "completed"
    },
    "scrolled": true,
    "tags": []
   },
   "outputs": [
    {
     "data": {
      "image/png": "[encoded data removed]",
      "text/plain": [
       "<Figure size 640x480 with 1 Axes>"
      ]
     },
     "metadata": {},
     "output_type": "display_data"
    }
   ],
   "source": [
    "# Seasonal/cyclical variations\n",
    "plt.bar(annual_means.index, annual_means.values)\n",
    "plt.xlabel('Year')\n",
    "plt.ylabel('Mean Sea Level (mm)')\n",
    "plt.title('Mean Sea Level by Year')\n",
    "plt.show()"
   ]
  },
  {
   "cell_type": "markdown",
   "id": "89454d8d",
   "metadata": {
    "papermill": {
     "duration": 0.014594,
     "end_time": "2025-04-26T07:11:30.763149",
     "exception": false,
     "start_time": "2025-04-26T07:11:30.748555",
     "status": "completed"
    },
    "tags": []
   },
   "source": [
    "#### Insights:\n",
    "the graph clearly shows that there is increasing of mean sea level for each year. This indicating that the surface ocean are increasing by years and most likely causes by the global warming and lead to the melting of the glacier."
   ]
  },
  {
   "cell_type": "markdown",
   "id": "748ae612",
   "metadata": {
    "papermill": {
     "duration": 0.014383,
     "end_time": "2025-04-26T07:11:30.792176",
     "exception": false,
     "start_time": "2025-04-26T07:11:30.777793",
     "status": "completed"
    },
    "tags": []
   },
   "source": [
    "### 8.5 Mean Sea Level Across Region\n",
    "Mean accross region (regional_means) was calculated in subsection 7.3. "
   ]
  },
  {
   "cell_type": "code",
   "execution_count": 24,
   "id": "858f1fb8",
   "metadata": {
    "execution": {
     "iopub.execute_input": "2025-04-26T07:11:30.822471Z",
     "iopub.status.busy": "2025-04-26T07:11:30.822160Z",
     "iopub.status.idle": "2025-04-26T07:11:31.172660Z",
     "shell.execute_reply": "2025-04-26T07:11:31.171562Z"
    },
    "papermill": {
     "duration": 0.367567,
     "end_time": "2025-04-26T07:11:31.174199",
     "exception": false,
     "start_time": "2025-04-26T07:11:30.806632",
     "status": "completed"
    },
    "tags": []
   },
   "outputs": [
    {
     "data": {
      "image/png": "[encoded data removed]",
      "text/plain": [
       "<Figure size 640x480 with 1 Axes>"
      ]
     },
     "metadata": {},
     "output_type": "display_data"
    }
   ],
   "source": [
    "# Visualizing the regional variations\n",
    "plt.barh(regional_means.index, regional_means.values)\n",
    "\n",
    "# Adding value labels to each bar\n",
    "for index, value in enumerate(regional_means.values):\n",
    "    plt.text(value, index, f'{value:.2f}', ha='left', va='center', fontsize=10)\n",
    "\n",
    "plt.xlabel(\"Mean Sea Level (mm)\")\n",
    "plt.ylabel(\"Region\")\n",
    "plt.title(\"Regional Variations in Mean Sea Level\")\n",
    "plt.show()"
   ]
  },
  {
   "cell_type": "markdown",
   "id": "7225a12f",
   "metadata": {
    "papermill": {
     "duration": 0.016264,
     "end_time": "2025-04-26T07:11:31.207479",
     "exception": false,
     "start_time": "2025-04-26T07:11:31.191215",
     "status": "completed"
    },
    "tags": []
   },
   "source": [
    "#### Insights:\n",
    "\n",
    "We can see from the plotted graph, that **Bering Sea** has the lowest mean sea level which is **10.88 mm**. While the highest mean sea level with the value of **36.09** mm was held by **Indonesian** region. "
   ]
  },
  {
   "cell_type": "markdown",
   "id": "adc8da31",
   "metadata": {
    "papermill": {
     "duration": 0.016259,
     "end_time": "2025-04-26T07:11:31.241037",
     "exception": false,
     "start_time": "2025-04-26T07:11:31.224778",
     "status": "completed"
    },
    "tags": []
   },
   "source": [
    "## 9. Machine Learning Implementation"
   ]
  },
  {
   "cell_type": "markdown",
   "id": "a84c52d4",
   "metadata": {
    "papermill": {
     "duration": 0.015962,
     "end_time": "2025-04-26T07:11:31.273569",
     "exception": false,
     "start_time": "2025-04-26T07:11:31.257607",
     "status": "completed"
    },
    "tags": []
   },
   "source": [
    "### 9.1 To answer Research Question 1\n",
    "#### Future Mean Sea Level Forecasting\n",
    "Predict mean sea levels for specific regions or globally at future time points (5 years ahead)."
   ]
  },
  {
   "cell_type": "code",
   "execution_count": 25,
   "id": "a3ac1924",
   "metadata": {
    "execution": {
     "iopub.execute_input": "2025-04-26T07:11:31.308597Z",
     "iopub.status.busy": "2025-04-26T07:11:31.307754Z",
     "iopub.status.idle": "2025-04-26T07:11:31.312975Z",
     "shell.execute_reply": "2025-04-26T07:11:31.312183Z"
    },
    "papermill": {
     "duration": 0.024523,
     "end_time": "2025-04-26T07:11:31.314468",
     "exception": false,
     "start_time": "2025-04-26T07:11:31.289945",
     "status": "completed"
    },
    "tags": []
   },
   "outputs": [],
   "source": [
    "# Selecting the 'Year' and 'Value' data for prediction\n",
    "X = df[[\"Year\"]]  # \"Year\" is the relevant predictor\n",
    "y = df[\"Value\"]  # Our target variable"
   ]
  },
  {
   "cell_type": "code",
   "execution_count": 26,
   "id": "a725abbd",
   "metadata": {
    "execution": {
     "iopub.execute_input": "2025-04-26T07:11:31.349673Z",
     "iopub.status.busy": "2025-04-26T07:11:31.348772Z",
     "iopub.status.idle": "2025-04-26T07:11:31.396634Z",
     "shell.execute_reply": "2025-04-26T07:11:31.395713Z"
    },
    "papermill": {
     "duration": 0.067119,
     "end_time": "2025-04-26T07:11:31.398122",
     "exception": false,
     "start_time": "2025-04-26T07:11:31.331003",
     "status": "completed"
    },
    "tags": []
   },
   "outputs": [
    {
     "data": {
      "text/html": [
       "<style>#sk-container-id-1 {color: black;background-color: white;}#sk-container-id-1 pre{padding: 0;}#sk-container-id-1 div.sk-toggleable {background-color: white;}#sk-container-id-1 label.sk-toggleable__label {cursor: pointer;display: block;width: 100%;margin-bottom: 0;padding: 0.3em;box-sizing: border-box;text-align: center;}#sk-container-id-1 label.sk-toggleable__label-arrow:before {content: \"▸\";float: left;margin-right: 0.25em;color: #696969;}#sk-container-id-1 label.sk-toggleable__label-arrow:hover:before {color: black;}#sk-container-id-1 div.sk-estimator:hover label.sk-toggleable__label-arrow:before {color: black;}#sk-container-id-1 div.sk-toggleable__content {max-height: 0;max-width: 0;overflow: hidden;text-align: left;background-color: #f0f8ff;}#sk-container-id-1 div.sk-toggleable__content pre {margin: 0.2em;color: black;border-radius: 0.25em;background-color: #f0f8ff;}#sk-container-id-1 input.sk-toggleable__control:checked~div.sk-toggleable__content {max-height: 200px;max-width: 100%;overflow: auto;}#sk-container-id-1 input.sk-toggleable__control:checked~label.sk-toggleable__label-arrow:before {content: \"▾\";}#sk-container-id-1 div.sk-estimator input.sk-toggleable__control:checked~label.sk-toggleable__label {background-color: #d4ebff;}#sk-container-id-1 div.sk-label input.sk-toggleable__control:checked~label.sk-toggleable__label {background-color: #d4ebff;}#sk-container-id-1 input.sk-hidden--visually {border: 0;clip: rect(1px 1px 1px 1px);clip: rect(1px, 1px, 1px, 1px);height: 1px;margin: -1px;overflow: hidden;padding: 0;position: absolute;width: 1px;}#sk-container-id-1 div.sk-estimator {font-family: monospace;background-color: #f0f8ff;border: 1px dotted black;border-radius: 0.25em;box-sizing: border-box;margin-bottom: 0.5em;}#sk-container-id-1 div.sk-estimator:hover {background-color: #d4ebff;}#sk-container-id-1 div.sk-parallel-item::after {content: \"\";width: 100%;border-bottom: 1px solid gray;flex-grow: 1;}#sk-container-id-1 div.sk-label:hover label.sk-toggleable__label {background-color: #d4ebff;}#sk-container-id-1 div.sk-serial::before {content: \"\";position: absolute;border-left: 1px solid gray;box-sizing: border-box;top: 0;bottom: 0;left: 50%;z-index: 0;}#sk-container-id-1 div.sk-serial {display: flex;flex-direction: column;align-items: center;background-color: white;padding-right: 0.2em;padding-left: 0.2em;position: relative;}#sk-container-id-1 div.sk-item {position: relative;z-index: 1;}#sk-container-id-1 div.sk-parallel {display: flex;align-items: stretch;justify-content: center;background-color: white;position: relative;}#sk-container-id-1 div.sk-item::before, #sk-container-id-1 div.sk-parallel-item::before {content: \"\";position: absolute;border-left: 1px solid gray;box-sizing: border-box;top: 0;bottom: 0;left: 50%;z-index: -1;}#sk-container-id-1 div.sk-parallel-item {display: flex;flex-direction: column;z-index: 1;position: relative;background-color: white;}#sk-container-id-1 div.sk-parallel-item:first-child::after {align-self: flex-end;width: 50%;}#sk-container-id-1 div.sk-parallel-item:last-child::after {align-self: flex-start;width: 50%;}#sk-container-id-1 div.sk-parallel-item:only-child::after {width: 0;}#sk-container-id-1 div.sk-dashed-wrapped {border: 1px dashed gray;margin: 0 0.4em 0.5em 0.4em;box-sizing: border-box;padding-bottom: 0.4em;background-color: white;}#sk-container-id-1 div.sk-label label {font-family: monospace;font-weight: bold;display: inline-block;line-height: 1.2em;}#sk-container-id-1 div.sk-label-container {text-align: center;}#sk-container-id-1 div.sk-container {/* jupyter's `normalize.less` sets `[hidden] { display: none; }` but bootstrap.min.css set `[hidden] { display: none !important; }` so we also need the `!important` here to be able to override the default hidden behavior on the sphinx rendered scikit-learn.org. See: https://github.com/scikit-learn/scikit-learn/issues/21755 */display: inline-block !important;position: relative;}#sk-container-id-1 div.sk-text-repr-fallback {display: none;}</style><div id=\"sk-container-id-1\" class=\"sk-top-container\"><div class=\"sk-text-repr-fallback\"><pre>LinearRegression()</pre><b>In a Jupyter environment, please rerun this cell to show the HTML representation or trust the notebook. <br />On GitHub, the HTML representation is unable to render, please try loading this page with nbviewer.org.</b></div><div class=\"sk-container\" hidden><div class=\"sk-item\"><div class=\"sk-estimator sk-toggleable\"><input class=\"sk-toggleable__control sk-hidden--visually\" id=\"sk-estimator-id-1\" type=\"checkbox\" checked><label for=\"sk-estimator-id-1\" class=\"sk-toggleable__label sk-toggleable__label-arrow\">LinearRegression</label><div class=\"sk-toggleable__content\"><pre>LinearRegression()</pre></div></div></div></div></div>"
      ],
      "text/plain": [
       "LinearRegression()"
      ]
     },
     "execution_count": 26,
     "metadata": {},
     "output_type": "execute_result"
    }
   ],
   "source": [
    "# Creating the linear regression model\n",
    "model = LinearRegression()\n",
    "model.fit(X, y)"
   ]
  },
  {
   "cell_type": "code",
   "execution_count": 27,
   "id": "1314e618",
   "metadata": {
    "execution": {
     "iopub.execute_input": "2025-04-26T07:11:31.434769Z",
     "iopub.status.busy": "2025-04-26T07:11:31.434458Z",
     "iopub.status.idle": "2025-04-26T07:11:31.448196Z",
     "shell.execute_reply": "2025-04-26T07:11:31.447222Z"
    },
    "papermill": {
     "duration": 0.033341,
     "end_time": "2025-04-26T07:11:31.449554",
     "exception": false,
     "start_time": "2025-04-26T07:11:31.416213",
     "status": "completed"
    },
    "tags": []
   },
   "outputs": [
    {
     "name": "stdout",
     "output_type": "stream",
     "text": [
      "Predicted mean sea levels for the next 25 years:\n",
      "2025: 80.98 mm\n",
      "2026: 84.19 mm\n",
      "2027: 87.41 mm\n",
      "2028: 90.63 mm\n",
      "2029: 93.85 mm\n",
      "2030: 97.07 mm\n",
      "2031: 100.29 mm\n",
      "2032: 103.51 mm\n",
      "2033: 106.72 mm\n",
      "2034: 109.94 mm\n",
      "2035: 113.16 mm\n",
      "2036: 116.38 mm\n",
      "2037: 119.60 mm\n",
      "2038: 122.82 mm\n",
      "2039: 126.04 mm\n",
      "2040: 129.25 mm\n",
      "2041: 132.47 mm\n",
      "2042: 135.69 mm\n",
      "2043: 138.91 mm\n",
      "2044: 142.13 mm\n",
      "2045: 145.35 mm\n",
      "2046: 148.57 mm\n",
      "2047: 151.78 mm\n",
      "2048: 155.00 mm\n",
      "2049: 158.22 mm\n",
      "2050: 161.44 mm\n"
     ]
    }
   ],
   "source": [
    "# Selecting the 'Year' and 'Value' data for prediction\n",
    "X = df[[\"Year\"]]  # \"Year\" is the relevant predictor\n",
    "y = df[\"Value\"]  # Our target variable\n",
    "\n",
    "# Creating the linear regression model\n",
    "model = LinearRegression()\n",
    "model.fit(X, y)\n",
    "\n",
    "# Predicting mean sea levels for the next 20 years (2025-2050)\n",
    "future_years = range(2025, 2051)  # Updated range for 2025 to 2050\n",
    "\n",
    "# Initializing 'future_X' for future predictions\n",
    "future_X = pd.DataFrame({\"Year\": future_years})\n",
    "\n",
    "# Using the model developed to predict mean sea levels for the next 25 years\n",
    "future_predictions = model.predict(future_X)\n",
    "\n",
    "print(\"Predicted mean sea levels for the next 25 years:\")\n",
    "\n",
    "# Display the predicted mean sea levels for each future year\n",
    "for year, prediction in zip(future_years, future_predictions):\n",
    "    print(f\"{year}: {prediction:.2f} mm\")\n"
   ]
  },
  {
   "cell_type": "markdown",
   "id": "29ede064",
   "metadata": {
    "papermill": {
     "duration": 0.016869,
     "end_time": "2025-04-26T07:11:31.483428",
     "exception": false,
     "start_time": "2025-04-26T07:11:31.466559",
     "status": "completed"
    },
    "tags": []
   },
   "source": [
    "#### Insights:\n",
    "Using linear regression to predict the mean of sea level in the next 25 years, we can see that there is **increase** in the mean sea level. An **increase** in mean sea level also depict that there is **increase** in sea temparature. Thus, this not only endanger marine life that live in the upper part of the ocean but to human as well as the hurricane and typhoon intensity are **increasing** as the ocean get warmer."
   ]
  },
  {
   "cell_type": "markdown",
   "id": "dd630889",
   "metadata": {
    "papermill": {
     "duration": 0.01651,
     "end_time": "2025-04-26T07:11:31.516738",
     "exception": false,
     "start_time": "2025-04-26T07:11:31.500228",
     "status": "completed"
    },
    "tags": []
   },
   "source": [
    "### 9.2 To answer Research Question 2\n",
    "#### Anomaly Detection\n",
    "Identify unusual or extreme sea level values that might signal anomalies or events like storms or floods."
   ]
  },
  {
   "cell_type": "code",
   "execution_count": 28,
   "id": "3d56f920",
   "metadata": {
    "execution": {
     "iopub.execute_input": "2025-04-26T07:11:31.551043Z",
     "iopub.status.busy": "2025-04-26T07:11:31.550694Z",
     "iopub.status.idle": "2025-04-26T07:11:31.558061Z",
     "shell.execute_reply": "2025-04-26T07:11:31.557335Z"
    },
    "papermill": {
     "duration": 0.026094,
     "end_time": "2025-04-26T07:11:31.559260",
     "exception": false,
     "start_time": "2025-04-26T07:11:31.533166",
     "status": "completed"
    },
    "tags": []
   },
   "outputs": [
    {
     "data": {
      "text/plain": [
       "['Year', 'Month', 'MonthOfYear', 'Value']"
      ]
     },
     "execution_count": 28,
     "metadata": {},
     "output_type": "execute_result"
    }
   ],
   "source": [
    "df['MonthOfYear'] = df['Date'].dt.month\n",
    "\n",
    "features = ['Year', 'Month', 'MonthOfYear', 'Value']\n",
    "features"
   ]
  },
  {
   "cell_type": "code",
   "execution_count": 29,
   "id": "a261bd53",
   "metadata": {
    "execution": {
     "iopub.execute_input": "2025-04-26T07:11:31.594714Z",
     "iopub.status.busy": "2025-04-26T07:11:31.594336Z",
     "iopub.status.idle": "2025-04-26T07:11:32.534175Z",
     "shell.execute_reply": "2025-04-26T07:11:32.533345Z"
    },
    "papermill": {
     "duration": 0.95921,
     "end_time": "2025-04-26T07:11:32.535618",
     "exception": false,
     "start_time": "2025-04-26T07:11:31.576408",
     "status": "completed"
    },
    "tags": []
   },
   "outputs": [
    {
     "name": "stderr",
     "output_type": "stream",
     "text": [
      "/usr/local/lib/python3.11/dist-packages/sklearn/base.py:439: UserWarning: X does not have valid feature names, but IsolationForest was fitted with feature names\n",
      "  warnings.warn(\n"
     ]
    },
    {
     "data": {
      "text/html": [
       "<style>#sk-container-id-2 {color: black;background-color: white;}#sk-container-id-2 pre{padding: 0;}#sk-container-id-2 div.sk-toggleable {background-color: white;}#sk-container-id-2 label.sk-toggleable__label {cursor: pointer;display: block;width: 100%;margin-bottom: 0;padding: 0.3em;box-sizing: border-box;text-align: center;}#sk-container-id-2 label.sk-toggleable__label-arrow:before {content: \"▸\";float: left;margin-right: 0.25em;color: #696969;}#sk-container-id-2 label.sk-toggleable__label-arrow:hover:before {color: black;}#sk-container-id-2 div.sk-estimator:hover label.sk-toggleable__label-arrow:before {color: black;}#sk-container-id-2 div.sk-toggleable__content {max-height: 0;max-width: 0;overflow: hidden;text-align: left;background-color: #f0f8ff;}#sk-container-id-2 div.sk-toggleable__content pre {margin: 0.2em;color: black;border-radius: 0.25em;background-color: #f0f8ff;}#sk-container-id-2 input.sk-toggleable__control:checked~div.sk-toggleable__content {max-height: 200px;max-width: 100%;overflow: auto;}#sk-container-id-2 input.sk-toggleable__control:checked~label.sk-toggleable__label-arrow:before {content: \"▾\";}#sk-container-id-2 div.sk-estimator input.sk-toggleable__control:checked~label.sk-toggleable__label {background-color: #d4ebff;}#sk-container-id-2 div.sk-label input.sk-toggleable__control:checked~label.sk-toggleable__label {background-color: #d4ebff;}#sk-container-id-2 input.sk-hidden--visually {border: 0;clip: rect(1px 1px 1px 1px);clip: rect(1px, 1px, 1px, 1px);height: 1px;margin: -1px;overflow: hidden;padding: 0;position: absolute;width: 1px;}#sk-container-id-2 div.sk-estimator {font-family: monospace;background-color: #f0f8ff;border: 1px dotted black;border-radius: 0.25em;box-sizing: border-box;margin-bottom: 0.5em;}#sk-container-id-2 div.sk-estimator:hover {background-color: #d4ebff;}#sk-container-id-2 div.sk-parallel-item::after {content: \"\";width: 100%;border-bottom: 1px solid gray;flex-grow: 1;}#sk-container-id-2 div.sk-label:hover label.sk-toggleable__label {background-color: #d4ebff;}#sk-container-id-2 div.sk-serial::before {content: \"\";position: absolute;border-left: 1px solid gray;box-sizing: border-box;top: 0;bottom: 0;left: 50%;z-index: 0;}#sk-container-id-2 div.sk-serial {display: flex;flex-direction: column;align-items: center;background-color: white;padding-right: 0.2em;padding-left: 0.2em;position: relative;}#sk-container-id-2 div.sk-item {position: relative;z-index: 1;}#sk-container-id-2 div.sk-parallel {display: flex;align-items: stretch;justify-content: center;background-color: white;position: relative;}#sk-container-id-2 div.sk-item::before, #sk-container-id-2 div.sk-parallel-item::before {content: \"\";position: absolute;border-left: 1px solid gray;box-sizing: border-box;top: 0;bottom: 0;left: 50%;z-index: -1;}#sk-container-id-2 div.sk-parallel-item {display: flex;flex-direction: column;z-index: 1;position: relative;background-color: white;}#sk-container-id-2 div.sk-parallel-item:first-child::after {align-self: flex-end;width: 50%;}#sk-container-id-2 div.sk-parallel-item:last-child::after {align-self: flex-start;width: 50%;}#sk-container-id-2 div.sk-parallel-item:only-child::after {width: 0;}#sk-container-id-2 div.sk-dashed-wrapped {border: 1px dashed gray;margin: 0 0.4em 0.5em 0.4em;box-sizing: border-box;padding-bottom: 0.4em;background-color: white;}#sk-container-id-2 div.sk-label label {font-family: monospace;font-weight: bold;display: inline-block;line-height: 1.2em;}#sk-container-id-2 div.sk-label-container {text-align: center;}#sk-container-id-2 div.sk-container {/* jupyter's `normalize.less` sets `[hidden] { display: none; }` but bootstrap.min.css set `[hidden] { display: none !important; }` so we also need the `!important` here to be able to override the default hidden behavior on the sphinx rendered scikit-learn.org. See: https://github.com/scikit-learn/scikit-learn/issues/21755 */display: inline-block !important;position: relative;}#sk-container-id-2 div.sk-text-repr-fallback {display: none;}</style><div id=\"sk-container-id-2\" class=\"sk-top-container\"><div class=\"sk-text-repr-fallback\"><pre>IsolationForest(contamination=0.05)</pre><b>In a Jupyter environment, please rerun this cell to show the HTML representation or trust the notebook. <br />On GitHub, the HTML representation is unable to render, please try loading this page with nbviewer.org.</b></div><div class=\"sk-container\" hidden><div class=\"sk-item\"><div class=\"sk-estimator sk-toggleable\"><input class=\"sk-toggleable__control sk-hidden--visually\" id=\"sk-estimator-id-2\" type=\"checkbox\" checked><label for=\"sk-estimator-id-2\" class=\"sk-toggleable__label sk-toggleable__label-arrow\">IsolationForest</label><div class=\"sk-toggleable__content\"><pre>IsolationForest(contamination=0.05)</pre></div></div></div></div></div>"
      ],
      "text/plain": [
       "IsolationForest(contamination=0.05)"
      ]
     },
     "execution_count": 29,
     "metadata": {},
     "output_type": "execute_result"
    }
   ],
   "source": [
    "data_for_anomaly_detection = df[features].copy()\n",
    "\n",
    "model = IsolationForest(contamination=0.05)\n",
    "model.fit(data_for_anomaly_detection)"
   ]
  },
  {
   "cell_type": "code",
   "execution_count": 30,
   "id": "17fb29f2",
   "metadata": {
    "execution": {
     "iopub.execute_input": "2025-04-26T07:11:32.571639Z",
     "iopub.status.busy": "2025-04-26T07:11:32.571299Z",
     "iopub.status.idle": "2025-04-26T07:11:33.271516Z",
     "shell.execute_reply": "2025-04-26T07:11:33.270319Z"
    },
    "papermill": {
     "duration": 0.720208,
     "end_time": "2025-04-26T07:11:33.273190",
     "exception": false,
     "start_time": "2025-04-26T07:11:32.552982",
     "status": "completed"
    },
    "tags": []
   },
   "outputs": [
    {
     "name": "stdout",
     "output_type": "stream",
     "text": [
      "Detected anomalies:\n",
      "               Unit        Region       Date   Value  Year  Month  Day  \\\n",
      "6      millimeters   Gulf Mexico 1992-12-17   -3.95  1992     12   17   \n",
      "21     millimeters    Yellow Sea 1992-12-17  -70.61  1992     12   17   \n",
      "7      millimeters  Indian Ocean 1992-12-17  -27.63  1992     12   17   \n",
      "10     millimeters          Nino 1992-12-17   -3.13  1992     12   17   \n",
      "12     millimeters     North Sea 1992-12-17   44.01  1992     12   17   \n",
      "...            ...           ...        ...     ...   ...    ...  ...   \n",
      "35564  millimeters    Indonesian 2022-11-08  196.38  2022     11    8   \n",
      "35574  millimeters   South China 2022-11-08  197.90  2022     11    8   \n",
      "35562  millimeters   Gulf Mexico 2022-11-08  184.66  2022     11    8   \n",
      "35569  millimeters     North Sea 2022-11-08  213.20  2022     11    8   \n",
      "35571  millimeters  Persian Gulf 2022-11-08  157.17  2022     11    8   \n",
      "\n",
      "       MonthOfYear  IsAnomaly  \n",
      "6               12         -1  \n",
      "21              12         -1  \n",
      "7               12         -1  \n",
      "10              12         -1  \n",
      "12              12         -1  \n",
      "...            ...        ...  \n",
      "35564           11         -1  \n",
      "35574           11         -1  \n",
      "35562           11         -1  \n",
      "35569           11         -1  \n",
      "35571           11         -1  \n",
      "\n",
      "[1781 rows x 9 columns]\n"
     ]
    }
   ],
   "source": [
    "df['IsAnomaly'] = model.predict(data_for_anomaly_detection)\n",
    "print(\"Detected anomalies:\\n\", df[df['IsAnomaly'] == -1])"
   ]
  },
  {
   "cell_type": "code",
   "execution_count": 31,
   "id": "f45516a1",
   "metadata": {
    "execution": {
     "iopub.execute_input": "2025-04-26T07:11:33.310408Z",
     "iopub.status.busy": "2025-04-26T07:11:33.310099Z",
     "iopub.status.idle": "2025-04-26T07:11:34.001928Z",
     "shell.execute_reply": "2025-04-26T07:11:34.000875Z"
    },
    "papermill": {
     "duration": 0.712115,
     "end_time": "2025-04-26T07:11:34.003501",
     "exception": false,
     "start_time": "2025-04-26T07:11:33.291386",
     "status": "completed"
    },
    "tags": []
   },
   "outputs": [
    {
     "name": "stdout",
     "output_type": "stream",
     "text": [
      "Detected anomalies:\n",
      " 6         True\n",
      "21        True\n",
      "7         True\n",
      "10        True\n",
      "12        True\n",
      "         ...  \n",
      "35602    False\n",
      "35587    False\n",
      "35600    False\n",
      "35581    False\n",
      "35592    False\n",
      "Name: IsAnomaly, Length: 35604, dtype: bool\n"
     ]
    }
   ],
   "source": [
    "#Predict anomalies\n",
    "predictions = model.predict(data_for_anomaly_detection)\n",
    "df['IsAnomaly'] = (predictions == -1)\n",
    "print(\"Detected anomalies:\\n\", df['IsAnomaly'])"
   ]
  },
  {
   "cell_type": "code",
   "execution_count": 32,
   "id": "e10b4309",
   "metadata": {
    "execution": {
     "iopub.execute_input": "2025-04-26T07:11:34.044568Z",
     "iopub.status.busy": "2025-04-26T07:11:34.043777Z",
     "iopub.status.idle": "2025-04-26T07:11:34.498821Z",
     "shell.execute_reply": "2025-04-26T07:11:34.497984Z"
    },
    "papermill": {
     "duration": 0.476416,
     "end_time": "2025-04-26T07:11:34.501228",
     "exception": false,
     "start_time": "2025-04-26T07:11:34.024812",
     "status": "completed"
    },
    "tags": []
   },
   "outputs": [
    {
     "data": {
      "image/png": "[encoded data removed]",
      "text/plain": [
       "<Figure size 1000x600 with 1 Axes>"
      ]
     },
     "metadata": {},
     "output_type": "display_data"
    }
   ],
   "source": [
    "# Visualization\n",
    "plt.figure(figsize=(10, 6))\n",
    "plt.plot(df['Date'], df['Value'], label='Sea Level Changes')\n",
    "plt.scatter(df[df['IsAnomaly']]['Date'], df[df['IsAnomaly']]['Value'], color='red', label='Anomalies')  # Fix: Removed extra comma\n",
    "plt.xlabel('Date')\n",
    "plt.ylabel('Sea Level Changes')\n",
    "plt.title('Anomaly Detection in Sea Level Changes')\n",
    "plt.legend()\n",
    "plt.show()  # Fix: Corrected 'ply.show()' to 'plt.show()'\n"
   ]
  },
  {
   "cell_type": "markdown",
   "id": "48daef3f",
   "metadata": {
    "papermill": {
     "duration": 0.019229,
     "end_time": "2025-04-26T07:11:34.540365",
     "exception": false,
     "start_time": "2025-04-26T07:11:34.521136",
     "status": "completed"
    },
    "tags": []
   },
   "source": [
    "#### Insights:\n",
    "Based on the output above, we can see that there is always anomaly happened each year. This anomaly can be caused by the global warming. Thus, whenever El NiNo and La Nina happened each year, the mean se level are heavily affected because of the thermal expansion."
   ]
  },
  {
   "cell_type": "markdown",
   "id": "a93b846e",
   "metadata": {
    "papermill": {
     "duration": 0.018511,
     "end_time": "2025-04-26T07:11:34.577877",
     "exception": false,
     "start_time": "2025-04-26T07:11:34.559366",
     "status": "completed"
    },
    "tags": []
   },
   "source": [
    "### 9.3 To answer Research Question 3\n",
    "#### Seasonal/Cyclical Pattern Analysis\n",
    "Explore annual cycles in sea level changes."
   ]
  },
  {
   "cell_type": "markdown",
   "id": "103a9dc4",
   "metadata": {
    "papermill": {
     "duration": 0.018058,
     "end_time": "2025-04-26T07:11:34.614352",
     "exception": false,
     "start_time": "2025-04-26T07:11:34.596294",
     "status": "completed"
    },
    "tags": []
   },
   "source": [
    "By using the value mean of the \"Value\" column for each year calculated before, graph below shows the annual means of the sea level from the 1992 until 2022. "
   ]
  },
  {
   "cell_type": "code",
   "execution_count": 33,
   "id": "c6765c55",
   "metadata": {
    "execution": {
     "iopub.execute_input": "2025-04-26T07:11:34.653739Z",
     "iopub.status.busy": "2025-04-26T07:11:34.653445Z",
     "iopub.status.idle": "2025-04-26T07:11:34.871863Z",
     "shell.execute_reply": "2025-04-26T07:11:34.870983Z"
    },
    "papermill": {
     "duration": 0.240174,
     "end_time": "2025-04-26T07:11:34.873340",
     "exception": false,
     "start_time": "2025-04-26T07:11:34.633166",
     "status": "completed"
    },
    "tags": []
   },
   "outputs": [
    {
     "data": {
      "image/png": "[encoded data removed]",
      "text/plain": [
       "<Figure size 1000x600 with 1 Axes>"
      ]
     },
     "metadata": {},
     "output_type": "display_data"
    }
   ],
   "source": [
    "# Calculate annual means of sea level\n",
    "annual_means = df.groupby('Year')['Value'].mean().reset_index()\n",
    "\n",
    "# Reshape the data for linear regression\n",
    "X = annual_means['Year'].values.reshape(-1, 1)\n",
    "y = annual_means['Value'].values\n",
    "\n",
    "# Create and train a linear regression model\n",
    "model = LinearRegression()\n",
    "model.fit(X, y)\n",
    "\n",
    "# Predict sea levels using the linear regression model\n",
    "predicted_values = model.predict(X)\n",
    "\n",
    "# Visualize the annual means and linear regression line\n",
    "plt.figure(figsize=(10, 6))\n",
    "plt.scatter(X, y, label='True Data')\n",
    "plt.plot(X, predicted_values, color='red', label='Train Model')\n",
    "plt.xlabel(\"Year\")\n",
    "plt.ylabel(\"Mean Sea Level (mm)\")\n",
    "plt.title(\"Annual Mean Sea Level with Linear Regression (1992-2022)\")\n",
    "plt.legend()\n",
    "plt.grid(True)\n",
    "plt.show()\n"
   ]
  },
  {
   "cell_type": "markdown",
   "id": "bc5dd332",
   "metadata": {
    "papermill": {
     "duration": 0.019978,
     "end_time": "2025-04-26T07:11:34.913294",
     "exception": false,
     "start_time": "2025-04-26T07:11:34.893316",
     "status": "completed"
    },
    "tags": []
   },
   "source": [
    "#### Insights:\n",
    "The annual cycle of the mean sea level is **increasing** as time passed. Although there are slight decrease in certain year, the decrease would not lower than the year before."
   ]
  }
 ],
 "metadata": {
  "kaggle": {
   "accelerator": "none",
   "dataSources": [
    {
     "datasetId": 7255476,
     "sourceId": 11572653,
     "sourceType": "datasetVersion"
    }
   ],
   "dockerImageVersionId": 31012,
   "isGpuEnabled": false,
   "isInternetEnabled": false,
   "language": "python",
   "sourceType": "notebook"
  },
  "kernelspec": {
   "display_name": "Python 3",
   "language": "python",
   "name": "python3"
  },
  "language_info": {
   "codemirror_mode": {
    "name": "ipython",
    "version": 3
   },
   "file_extension": ".py",
   "mimetype": "text/x-python",
   "name": "python",
   "nbconvert_exporter": "python",
   "pygments_lexer": "ipython3",
   "version": "3.11.11"
  },
  "papermill": {
   "default_parameters": {},
   "duration": 16.743371,
   "end_time": "2025-04-26T07:11:35.654464",
   "environment_variables": {},
   "exception": null,
   "input_path": "__notebook__.ipynb",
   "output_path": "__notebook__.ipynb",
   "parameters": {},
   "start_time": "2025-04-26T07:11:18.911093",
   "version": "2.6.0"
  }
 },
 "nbformat": 4,
 "nbformat_minor": 5
}
